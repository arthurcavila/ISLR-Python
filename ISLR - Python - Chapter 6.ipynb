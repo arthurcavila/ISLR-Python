{
 "cells": [
  {
   "cell_type": "markdown",
   "metadata": {},
   "source": [
    "# ISLR Chapter 6 - End of Chapter Applied exercises code portion solutions¶\n",
    "\n",
    "Exercises from: \"An Introduction to Statistical Learning with Applications in R\" (Springer, 2013) by Gareth James, Daniela Witten, Trevor Hastie and Robert Tibshirani\n",
    "\n",
    "Data: http://faculty.marshall.usc.edu/gareth-james/ISL/data.html\n",
    "\n",
    "Code Solutions by Arthur Avila"
   ]
  },
  {
   "cell_type": "code",
   "execution_count": 1,
   "metadata": {},
   "outputs": [],
   "source": [
    "import numpy as np\n",
    "import pandas as pd\n",
    "import matplotlib.pyplot as plt\n",
    "import statsmodels.api as sm\n",
    "import stepwise_functions as step # my own based on statstmodels\n",
    "\n",
    "from itertools import combinations\n",
    "from sklearn.linear_model import LinearRegression, Lasso, Ridge\n",
    "from sklearn.feature_selection import RFE, RFECV\n",
    "from sklearn.metrics import mean_squared_error, make_scorer\n",
    "from sklearn.decomposition import PCA\n",
    "from sklearn.cross_decomposition import PLSRegression\n",
    "from sklearn.model_selection import GridSearchCV, RepeatedKFold, train_test_split\n",
    "from sklearn.pipeline import Pipeline\n",
    "\n"
   ]
  },
  {
   "cell_type": "markdown",
   "metadata": {},
   "source": [
    "### 8. In this exercise, we will generate simulated data, and will then use this data to perform best subset selection.\n",
    "\n",
    "#### (a) Use the `rnorm()` function to generate a predictor $X$ of length $n = 100$, as well as a noise vector $\\varepsilon$ of length $n = 100$.\n",
    "\n",
    "#### (b) Generate a response vector $Y$ of length $n = 100$ according to the model\n",
    "$$\n",
    "Y = \\beta_0 + \\beta_1 X + \\beta_2 X^2 + \\beta_3 X^3 + \\varepsilon,\n",
    "$$\n",
    "#### where $\\beta_0$ , $\\beta_1$ , $\\beta_2$ , and $\\beta_3$ are constants of your choice."
   ]
  },
  {
   "cell_type": "code",
   "execution_count": 2,
   "metadata": {},
   "outputs": [
    {
     "name": "stdout",
     "output_type": "stream",
     "text": [
      "(100, 10)\n"
     ]
    }
   ],
   "source": [
    "# a\n",
    "np.random.seed(35465)\n",
    "x = np.random.normal(0,1.5,100)\n",
    "epsilon = np.random.normal(0,1,100)\n",
    "\n",
    "# b\n",
    "y = 2 - 4*x + x**2 + 2*x**3 + epsilon\n",
    "# Make 10 degree polinomial of x\n",
    "X = np.column_stack([x**i for i in range(1,11)])\n",
    "print(X.shape) "
   ]
  },
  {
   "cell_type": "markdown",
   "metadata": {},
   "source": [
    "#### (c) Use the `regsubsets()` function to perform best subset selection in order to choose the best model containing the predictors $X, X^2 , \\dots , X^{10}$. What is the best model obtained according to $C_p$ , BIC, and adjusted $R^2$? Show some plots to provide evidence for your answer, and report the coefficients of the best model obtained. Note you will need to use the $data.frame()$ function to create a single data set containing both $X$ and $Y$.\n",
    "\n",
    "#### (d) Repeat (c), using forward stepwise selection and also using backwards stepwise selection. How does your answer compare to the results in (c)?"
   ]
  },
  {
   "cell_type": "code",
   "execution_count": 3,
   "metadata": {},
   "outputs": [
    {
     "data": {
      "text/plain": [
       "['__builtins__',\n",
       " '__cached__',\n",
       " '__doc__',\n",
       " '__file__',\n",
       " '__loader__',\n",
       " '__name__',\n",
       " '__package__',\n",
       " '__spec__',\n",
       " 'add1',\n",
       " 'all_subsets',\n",
       " 'combinations',\n",
       " 'drop1',\n",
       " 'np',\n",
       " 'pd',\n",
       " 'report_best_all',\n",
       " 'sm',\n",
       " 'step_back',\n",
       " 'step_forward']"
      ]
     },
     "execution_count": 3,
     "metadata": {},
     "output_type": "execute_result"
    }
   ],
   "source": [
    "## This question is not well suited for sklearn because it does not compute\n",
    "## the log likelyhood for LinearRegression\n",
    "\n",
    "import stepwise_functions as step # my own based on statstmodels\n",
    "\n",
    "dir(step)"
   ]
  },
  {
   "cell_type": "code",
   "execution_count": 4,
   "metadata": {},
   "outputs": [
    {
     "name": "stdout",
     "output_type": "stream",
     "text": [
      "    N_var      AIC      BIC Feature0 Feature1 Feature2 Feature3 Feature4  \\\n",
      "644     6  292.929  311.165     True     True     True     True    False   \n",
      "448     5  293.072  308.703     True    False     True     True    False   \n",
      "642     6  293.087  311.324     True     True     True     True    False   \n",
      "708     6  293.178  311.414     True    False     True     True     True   \n",
      "55      3  293.261  303.681     True     True     True    False    False   \n",
      "710     6   293.27  311.507     True    False     True     True     True   \n",
      "447     5  293.308  308.939     True    False     True     True    False   \n",
      "637     6  293.344   311.58     True     True     True     True     True   \n",
      "871     7  293.407  314.249     True     True     True    False     True   \n",
      "649     6  293.434  311.671     True     True     True     True    False   \n",
      "449     5  293.552  309.183     True    False     True     True    False   \n",
      "\n",
      "    Feature5 Feature6 Feature7 Feature8 Feature9  \n",
      "644     True    False    False     True    False  \n",
      "448     True    False    False     True    False  \n",
      "642     True     True    False    False    False  \n",
      "708     True    False     True    False    False  \n",
      "55     False    False    False    False    False  \n",
      "710     True    False    False    False     True  \n",
      "447     True    False     True    False    False  \n",
      "637     True    False    False    False    False  \n",
      "871     True    False     True    False     True  \n",
      "649    False    False     True     True    False  \n",
      "449     True    False    False    False     True  \n",
      "    N_var      AIC      BIC Feature0 Feature1 Feature2 Feature3 Feature4  \\\n",
      "55      3  293.261  303.681     True     True     True    False    False   \n",
      "181     4  294.888  307.913     True     True     True    False    False   \n",
      "179     4  294.888  307.914     True     True     True    False    False   \n",
      "177     4  294.986  308.012     True     True     True    False    False   \n",
      "180     4  295.139  308.165     True     True     True    False    False   \n",
      "175     4  295.212  308.238     True     True     True     True    False   \n",
      "178     4  295.223  308.249     True     True     True    False    False   \n",
      "176     4  295.253  308.279     True     True     True    False     True   \n",
      "448     5  293.072  308.703     True    False     True     True    False   \n",
      "447     5  293.308  308.939     True    False     True     True    False   \n",
      "449     5  293.552  309.183     True    False     True     True    False   \n",
      "\n",
      "    Feature5 Feature6 Feature7 Feature8 Feature9  \n",
      "55     False    False    False    False    False  \n",
      "181    False    False    False    False     True  \n",
      "179    False    False     True    False    False  \n",
      "177     True    False    False    False    False  \n",
      "180    False    False    False     True    False  \n",
      "175    False    False    False    False    False  \n",
      "178    False     True    False    False    False  \n",
      "176    False    False    False    False    False  \n",
      "448     True    False    False     True    False  \n",
      "447     True    False     True    False    False  \n",
      "449     True    False    False    False     True  \n"
     ]
    }
   ],
   "source": [
    "_ = step.report_best_all(sm.OLS, y, X, 10)"
   ]
  },
  {
   "cell_type": "code",
   "execution_count": 5,
   "metadata": {},
   "outputs": [
    {
     "data": {
      "text/html": [
       "<div>\n",
       "<style scoped>\n",
       "    .dataframe tbody tr th:only-of-type {\n",
       "        vertical-align: middle;\n",
       "    }\n",
       "\n",
       "    .dataframe tbody tr th {\n",
       "        vertical-align: top;\n",
       "    }\n",
       "\n",
       "    .dataframe thead th {\n",
       "        text-align: right;\n",
       "    }\n",
       "</style>\n",
       "<table border=\"1\" class=\"dataframe\">\n",
       "  <thead>\n",
       "    <tr style=\"text-align: right;\">\n",
       "      <th></th>\n",
       "      <th>N_var</th>\n",
       "      <th>AIC</th>\n",
       "      <th>BIC</th>\n",
       "      <th>Feature1</th>\n",
       "      <th>Feature2</th>\n",
       "      <th>Feature3</th>\n",
       "      <th>Feature4</th>\n",
       "      <th>Feature5</th>\n",
       "      <th>Feature6</th>\n",
       "      <th>Feature7</th>\n",
       "      <th>Feature8</th>\n",
       "      <th>Feature9</th>\n",
       "      <th>Feature10</th>\n",
       "    </tr>\n",
       "  </thead>\n",
       "  <tbody>\n",
       "    <tr>\n",
       "      <th>1</th>\n",
       "      <td>3</td>\n",
       "      <td>293.261</td>\n",
       "      <td>303.681</td>\n",
       "      <td>True</td>\n",
       "      <td>True</td>\n",
       "      <td>True</td>\n",
       "      <td>False</td>\n",
       "      <td>False</td>\n",
       "      <td>False</td>\n",
       "      <td>False</td>\n",
       "      <td>False</td>\n",
       "      <td>False</td>\n",
       "      <td>False</td>\n",
       "    </tr>\n",
       "    <tr>\n",
       "      <th>2</th>\n",
       "      <td>4</td>\n",
       "      <td>294.888</td>\n",
       "      <td>307.914</td>\n",
       "      <td>True</td>\n",
       "      <td>True</td>\n",
       "      <td>True</td>\n",
       "      <td>False</td>\n",
       "      <td>False</td>\n",
       "      <td>False</td>\n",
       "      <td>False</td>\n",
       "      <td>True</td>\n",
       "      <td>False</td>\n",
       "      <td>False</td>\n",
       "    </tr>\n",
       "    <tr>\n",
       "      <th>1</th>\n",
       "      <td>5</td>\n",
       "      <td>296.683</td>\n",
       "      <td>312.314</td>\n",
       "      <td>True</td>\n",
       "      <td>True</td>\n",
       "      <td>True</td>\n",
       "      <td>False</td>\n",
       "      <td>False</td>\n",
       "      <td>True</td>\n",
       "      <td>False</td>\n",
       "      <td>True</td>\n",
       "      <td>False</td>\n",
       "      <td>False</td>\n",
       "    </tr>\n",
       "    <tr>\n",
       "      <th>3</th>\n",
       "      <td>6</td>\n",
       "      <td>294.557</td>\n",
       "      <td>312.793</td>\n",
       "      <td>True</td>\n",
       "      <td>True</td>\n",
       "      <td>True</td>\n",
       "      <td>False</td>\n",
       "      <td>False</td>\n",
       "      <td>True</td>\n",
       "      <td>False</td>\n",
       "      <td>True</td>\n",
       "      <td>False</td>\n",
       "      <td>True</td>\n",
       "    </tr>\n",
       "    <tr>\n",
       "      <th>2</th>\n",
       "      <td>7</td>\n",
       "      <td>293.939</td>\n",
       "      <td>314.781</td>\n",
       "      <td>True</td>\n",
       "      <td>True</td>\n",
       "      <td>True</td>\n",
       "      <td>False</td>\n",
       "      <td>False</td>\n",
       "      <td>True</td>\n",
       "      <td>True</td>\n",
       "      <td>True</td>\n",
       "      <td>False</td>\n",
       "      <td>True</td>\n",
       "    </tr>\n",
       "    <tr>\n",
       "      <th>6</th>\n",
       "      <td>8</td>\n",
       "      <td>294.715</td>\n",
       "      <td>318.161</td>\n",
       "      <td>True</td>\n",
       "      <td>True</td>\n",
       "      <td>True</td>\n",
       "      <td>False</td>\n",
       "      <td>False</td>\n",
       "      <td>True</td>\n",
       "      <td>True</td>\n",
       "      <td>True</td>\n",
       "      <td>True</td>\n",
       "      <td>True</td>\n",
       "    </tr>\n",
       "    <tr>\n",
       "      <th>6</th>\n",
       "      <td>9</td>\n",
       "      <td>296.282</td>\n",
       "      <td>322.334</td>\n",
       "      <td>True</td>\n",
       "      <td>True</td>\n",
       "      <td>True</td>\n",
       "      <td>True</td>\n",
       "      <td>False</td>\n",
       "      <td>True</td>\n",
       "      <td>True</td>\n",
       "      <td>True</td>\n",
       "      <td>True</td>\n",
       "      <td>True</td>\n",
       "    </tr>\n",
       "    <tr>\n",
       "      <th>0</th>\n",
       "      <td>10</td>\n",
       "      <td>298.282</td>\n",
       "      <td>326.939</td>\n",
       "      <td>True</td>\n",
       "      <td>True</td>\n",
       "      <td>True</td>\n",
       "      <td>True</td>\n",
       "      <td>True</td>\n",
       "      <td>True</td>\n",
       "      <td>True</td>\n",
       "      <td>True</td>\n",
       "      <td>True</td>\n",
       "      <td>True</td>\n",
       "    </tr>\n",
       "    <tr>\n",
       "      <th>2</th>\n",
       "      <td>2</td>\n",
       "      <td>460.46</td>\n",
       "      <td>468.275</td>\n",
       "      <td>True</td>\n",
       "      <td>False</td>\n",
       "      <td>True</td>\n",
       "      <td>False</td>\n",
       "      <td>False</td>\n",
       "      <td>False</td>\n",
       "      <td>False</td>\n",
       "      <td>False</td>\n",
       "      <td>False</td>\n",
       "      <td>False</td>\n",
       "    </tr>\n",
       "    <tr>\n",
       "      <th>2</th>\n",
       "      <td>1</td>\n",
       "      <td>591.013</td>\n",
       "      <td>596.223</td>\n",
       "      <td>False</td>\n",
       "      <td>False</td>\n",
       "      <td>True</td>\n",
       "      <td>False</td>\n",
       "      <td>False</td>\n",
       "      <td>False</td>\n",
       "      <td>False</td>\n",
       "      <td>False</td>\n",
       "      <td>False</td>\n",
       "      <td>False</td>\n",
       "    </tr>\n",
       "  </tbody>\n",
       "</table>\n",
       "</div>"
      ],
      "text/plain": [
       "  N_var      AIC      BIC Feature1 Feature2 Feature3 Feature4 Feature5  \\\n",
       "1     3  293.261  303.681     True     True     True    False    False   \n",
       "2     4  294.888  307.914     True     True     True    False    False   \n",
       "1     5  296.683  312.314     True     True     True    False    False   \n",
       "3     6  294.557  312.793     True     True     True    False    False   \n",
       "2     7  293.939  314.781     True     True     True    False    False   \n",
       "6     8  294.715  318.161     True     True     True    False    False   \n",
       "6     9  296.282  322.334     True     True     True     True    False   \n",
       "0    10  298.282  326.939     True     True     True     True     True   \n",
       "2     2   460.46  468.275     True    False     True    False    False   \n",
       "2     1  591.013  596.223    False    False     True    False    False   \n",
       "\n",
       "  Feature6 Feature7 Feature8 Feature9 Feature10  \n",
       "1    False    False    False    False     False  \n",
       "2    False    False     True    False     False  \n",
       "1     True    False     True    False     False  \n",
       "3     True    False     True    False      True  \n",
       "2     True     True     True    False      True  \n",
       "6     True     True     True     True      True  \n",
       "6     True     True     True     True      True  \n",
       "0     True     True     True     True      True  \n",
       "2    False    False    False    False     False  \n",
       "2    False    False    False    False     False  "
      ]
     },
     "execution_count": 5,
     "metadata": {},
     "output_type": "execute_result"
    }
   ],
   "source": [
    "step.step_back(sm.OLS, y, X, crit='BIC')"
   ]
  },
  {
   "cell_type": "code",
   "execution_count": 6,
   "metadata": {},
   "outputs": [
    {
     "data": {
      "text/html": [
       "<div>\n",
       "<style scoped>\n",
       "    .dataframe tbody tr th:only-of-type {\n",
       "        vertical-align: middle;\n",
       "    }\n",
       "\n",
       "    .dataframe tbody tr th {\n",
       "        vertical-align: top;\n",
       "    }\n",
       "\n",
       "    .dataframe thead th {\n",
       "        text-align: right;\n",
       "    }\n",
       "</style>\n",
       "<table border=\"1\" class=\"dataframe\">\n",
       "  <thead>\n",
       "    <tr style=\"text-align: right;\">\n",
       "      <th></th>\n",
       "      <th>N_var</th>\n",
       "      <th>AIC</th>\n",
       "      <th>BIC</th>\n",
       "      <th>Feature1</th>\n",
       "      <th>Feature2</th>\n",
       "      <th>Feature3</th>\n",
       "      <th>Feature4</th>\n",
       "      <th>Feature5</th>\n",
       "      <th>Feature6</th>\n",
       "      <th>Feature7</th>\n",
       "      <th>Feature8</th>\n",
       "      <th>Feature9</th>\n",
       "      <th>Feature10</th>\n",
       "    </tr>\n",
       "  </thead>\n",
       "  <tbody>\n",
       "    <tr>\n",
       "      <th>1</th>\n",
       "      <td>3</td>\n",
       "      <td>293.261</td>\n",
       "      <td>303.681</td>\n",
       "      <td>True</td>\n",
       "      <td>True</td>\n",
       "      <td>True</td>\n",
       "      <td>False</td>\n",
       "      <td>False</td>\n",
       "      <td>False</td>\n",
       "      <td>False</td>\n",
       "      <td>False</td>\n",
       "      <td>False</td>\n",
       "      <td>False</td>\n",
       "    </tr>\n",
       "    <tr>\n",
       "      <th>7</th>\n",
       "      <td>4</td>\n",
       "      <td>294.888</td>\n",
       "      <td>307.913</td>\n",
       "      <td>True</td>\n",
       "      <td>True</td>\n",
       "      <td>True</td>\n",
       "      <td>False</td>\n",
       "      <td>False</td>\n",
       "      <td>False</td>\n",
       "      <td>False</td>\n",
       "      <td>False</td>\n",
       "      <td>False</td>\n",
       "      <td>True</td>\n",
       "    </tr>\n",
       "    <tr>\n",
       "      <th>2</th>\n",
       "      <td>5</td>\n",
       "      <td>294.394</td>\n",
       "      <td>310.025</td>\n",
       "      <td>True</td>\n",
       "      <td>True</td>\n",
       "      <td>True</td>\n",
       "      <td>False</td>\n",
       "      <td>True</td>\n",
       "      <td>False</td>\n",
       "      <td>False</td>\n",
       "      <td>False</td>\n",
       "      <td>False</td>\n",
       "      <td>True</td>\n",
       "    </tr>\n",
       "    <tr>\n",
       "      <th>1</th>\n",
       "      <td>6</td>\n",
       "      <td>295.39</td>\n",
       "      <td>313.626</td>\n",
       "      <td>True</td>\n",
       "      <td>True</td>\n",
       "      <td>True</td>\n",
       "      <td>True</td>\n",
       "      <td>True</td>\n",
       "      <td>False</td>\n",
       "      <td>False</td>\n",
       "      <td>False</td>\n",
       "      <td>False</td>\n",
       "      <td>True</td>\n",
       "    </tr>\n",
       "    <tr>\n",
       "      <th>3</th>\n",
       "      <td>7</td>\n",
       "      <td>293.873</td>\n",
       "      <td>314.714</td>\n",
       "      <td>True</td>\n",
       "      <td>True</td>\n",
       "      <td>True</td>\n",
       "      <td>True</td>\n",
       "      <td>True</td>\n",
       "      <td>False</td>\n",
       "      <td>False</td>\n",
       "      <td>True</td>\n",
       "      <td>False</td>\n",
       "      <td>True</td>\n",
       "    </tr>\n",
       "    <tr>\n",
       "      <th>2</th>\n",
       "      <td>8</td>\n",
       "      <td>295.158</td>\n",
       "      <td>318.604</td>\n",
       "      <td>True</td>\n",
       "      <td>True</td>\n",
       "      <td>True</td>\n",
       "      <td>True</td>\n",
       "      <td>True</td>\n",
       "      <td>False</td>\n",
       "      <td>True</td>\n",
       "      <td>True</td>\n",
       "      <td>False</td>\n",
       "      <td>True</td>\n",
       "    </tr>\n",
       "    <tr>\n",
       "      <th>1</th>\n",
       "      <td>9</td>\n",
       "      <td>296.399</td>\n",
       "      <td>322.451</td>\n",
       "      <td>True</td>\n",
       "      <td>True</td>\n",
       "      <td>True</td>\n",
       "      <td>True</td>\n",
       "      <td>True</td>\n",
       "      <td>True</td>\n",
       "      <td>True</td>\n",
       "      <td>True</td>\n",
       "      <td>False</td>\n",
       "      <td>True</td>\n",
       "    </tr>\n",
       "    <tr>\n",
       "      <th>1</th>\n",
       "      <td>10</td>\n",
       "      <td>298.282</td>\n",
       "      <td>326.939</td>\n",
       "      <td>True</td>\n",
       "      <td>True</td>\n",
       "      <td>True</td>\n",
       "      <td>True</td>\n",
       "      <td>True</td>\n",
       "      <td>True</td>\n",
       "      <td>True</td>\n",
       "      <td>True</td>\n",
       "      <td>True</td>\n",
       "      <td>True</td>\n",
       "    </tr>\n",
       "    <tr>\n",
       "      <th>2</th>\n",
       "      <td>2</td>\n",
       "      <td>460.46</td>\n",
       "      <td>468.275</td>\n",
       "      <td>True</td>\n",
       "      <td>False</td>\n",
       "      <td>True</td>\n",
       "      <td>False</td>\n",
       "      <td>False</td>\n",
       "      <td>False</td>\n",
       "      <td>False</td>\n",
       "      <td>False</td>\n",
       "      <td>False</td>\n",
       "      <td>False</td>\n",
       "    </tr>\n",
       "    <tr>\n",
       "      <th>0</th>\n",
       "      <td>1</td>\n",
       "      <td>772.931</td>\n",
       "      <td>778.141</td>\n",
       "      <td>True</td>\n",
       "      <td>False</td>\n",
       "      <td>False</td>\n",
       "      <td>False</td>\n",
       "      <td>False</td>\n",
       "      <td>False</td>\n",
       "      <td>False</td>\n",
       "      <td>False</td>\n",
       "      <td>False</td>\n",
       "      <td>False</td>\n",
       "    </tr>\n",
       "  </tbody>\n",
       "</table>\n",
       "</div>"
      ],
      "text/plain": [
       "  N_var      AIC      BIC Feature1 Feature2 Feature3 Feature4 Feature5  \\\n",
       "1     3  293.261  303.681     True     True     True    False    False   \n",
       "7     4  294.888  307.913     True     True     True    False    False   \n",
       "2     5  294.394  310.025     True     True     True    False     True   \n",
       "1     6   295.39  313.626     True     True     True     True     True   \n",
       "3     7  293.873  314.714     True     True     True     True     True   \n",
       "2     8  295.158  318.604     True     True     True     True     True   \n",
       "1     9  296.399  322.451     True     True     True     True     True   \n",
       "1    10  298.282  326.939     True     True     True     True     True   \n",
       "2     2   460.46  468.275     True    False     True    False    False   \n",
       "0     1  772.931  778.141     True    False    False    False    False   \n",
       "\n",
       "  Feature6 Feature7 Feature8 Feature9 Feature10  \n",
       "1    False    False    False    False     False  \n",
       "7    False    False    False    False      True  \n",
       "2    False    False    False    False      True  \n",
       "1    False    False    False    False      True  \n",
       "3    False    False     True    False      True  \n",
       "2    False     True     True    False      True  \n",
       "1     True     True     True    False      True  \n",
       "1     True     True     True     True      True  \n",
       "2    False    False    False    False     False  \n",
       "0    False    False    False    False     False  "
      ]
     },
     "execution_count": 6,
     "metadata": {},
     "output_type": "execute_result"
    }
   ],
   "source": [
    "step.step_forward(sm.OLS, y, X, crit = 'BIC')"
   ]
  },
  {
   "cell_type": "code",
   "execution_count": 7,
   "metadata": {},
   "outputs": [],
   "source": [
    "def all_subsets(model, X, y, metric):\n",
    "    \"\"\"\n",
    "    model: sklearn model\n",
    "    X: exogenous variables for the model (numpy array)\n",
    "    y: endogenous variable for the model (numpy array)\n",
    "    metric: sklearn.metrics object\n",
    "    \n",
    "    Returns: dictionary\n",
    "             key = score from metric, value = boolean array for the columns of X\n",
    "    \"\"\"\n",
    "    nfeatures = X.shape[1]\n",
    "    all_subsets ={}\n",
    "    modelid = 0\n",
    "    \n",
    "    for i in range(1, nfeatures+1):\n",
    "        for j in combinations(np.arange(X.shape[1]),i):\n",
    "            score = metric(y, model.fit(X[:,j], y).predict(X[:,j]))\n",
    "            all_subsets[score] = [x in j for x in np.arange(X.shape[1])]\n",
    "    return pd.DataFrame(all_subsets).transpose().sort_index()"
   ]
  },
  {
   "cell_type": "code",
   "execution_count": 8,
   "metadata": {},
   "outputs": [
    {
     "data": {
      "text/html": [
       "<div>\n",
       "<style scoped>\n",
       "    .dataframe tbody tr th:only-of-type {\n",
       "        vertical-align: middle;\n",
       "    }\n",
       "\n",
       "    .dataframe tbody tr th {\n",
       "        vertical-align: top;\n",
       "    }\n",
       "\n",
       "    .dataframe thead th {\n",
       "        text-align: right;\n",
       "    }\n",
       "</style>\n",
       "<table border=\"1\" class=\"dataframe\">\n",
       "  <thead>\n",
       "    <tr style=\"text-align: right;\">\n",
       "      <th></th>\n",
       "      <th>0</th>\n",
       "      <th>1</th>\n",
       "      <th>2</th>\n",
       "      <th>3</th>\n",
       "      <th>4</th>\n",
       "      <th>5</th>\n",
       "      <th>6</th>\n",
       "      <th>7</th>\n",
       "      <th>8</th>\n",
       "      <th>9</th>\n",
       "    </tr>\n",
       "  </thead>\n",
       "  <tbody>\n",
       "    <tr>\n",
       "      <th>0.927691</th>\n",
       "      <td>True</td>\n",
       "      <td>True</td>\n",
       "      <td>True</td>\n",
       "      <td>True</td>\n",
       "      <td>True</td>\n",
       "      <td>True</td>\n",
       "      <td>True</td>\n",
       "      <td>True</td>\n",
       "      <td>True</td>\n",
       "      <td>True</td>\n",
       "    </tr>\n",
       "    <tr>\n",
       "      <th>0.927692</th>\n",
       "      <td>True</td>\n",
       "      <td>True</td>\n",
       "      <td>True</td>\n",
       "      <td>True</td>\n",
       "      <td>False</td>\n",
       "      <td>True</td>\n",
       "      <td>True</td>\n",
       "      <td>True</td>\n",
       "      <td>True</td>\n",
       "      <td>True</td>\n",
       "    </tr>\n",
       "    <tr>\n",
       "      <th>0.928209</th>\n",
       "      <td>True</td>\n",
       "      <td>True</td>\n",
       "      <td>True</td>\n",
       "      <td>True</td>\n",
       "      <td>True</td>\n",
       "      <td>True</td>\n",
       "      <td>False</td>\n",
       "      <td>True</td>\n",
       "      <td>True</td>\n",
       "      <td>True</td>\n",
       "    </tr>\n",
       "    <tr>\n",
       "      <th>0.928781</th>\n",
       "      <td>True</td>\n",
       "      <td>True</td>\n",
       "      <td>True</td>\n",
       "      <td>True</td>\n",
       "      <td>True</td>\n",
       "      <td>True</td>\n",
       "      <td>True</td>\n",
       "      <td>True</td>\n",
       "      <td>False</td>\n",
       "      <td>True</td>\n",
       "    </tr>\n",
       "    <tr>\n",
       "      <th>0.930715</th>\n",
       "      <td>True</td>\n",
       "      <td>True</td>\n",
       "      <td>True</td>\n",
       "      <td>False</td>\n",
       "      <td>True</td>\n",
       "      <td>True</td>\n",
       "      <td>True</td>\n",
       "      <td>True</td>\n",
       "      <td>True</td>\n",
       "      <td>True</td>\n",
       "    </tr>\n",
       "    <tr>\n",
       "      <th>0.930724</th>\n",
       "      <td>True</td>\n",
       "      <td>True</td>\n",
       "      <td>True</td>\n",
       "      <td>False</td>\n",
       "      <td>True</td>\n",
       "      <td>True</td>\n",
       "      <td>True</td>\n",
       "      <td>True</td>\n",
       "      <td>False</td>\n",
       "      <td>True</td>\n",
       "    </tr>\n",
       "    <tr>\n",
       "      <th>0.930790</th>\n",
       "      <td>True</td>\n",
       "      <td>True</td>\n",
       "      <td>True</td>\n",
       "      <td>False</td>\n",
       "      <td>True</td>\n",
       "      <td>True</td>\n",
       "      <td>False</td>\n",
       "      <td>True</td>\n",
       "      <td>True</td>\n",
       "      <td>True</td>\n",
       "    </tr>\n",
       "    <tr>\n",
       "      <th>0.931713</th>\n",
       "      <td>True</td>\n",
       "      <td>True</td>\n",
       "      <td>True</td>\n",
       "      <td>False</td>\n",
       "      <td>False</td>\n",
       "      <td>True</td>\n",
       "      <td>True</td>\n",
       "      <td>True</td>\n",
       "      <td>True</td>\n",
       "      <td>True</td>\n",
       "    </tr>\n",
       "    <tr>\n",
       "      <th>0.934667</th>\n",
       "      <td>True</td>\n",
       "      <td>True</td>\n",
       "      <td>True</td>\n",
       "      <td>True</td>\n",
       "      <td>True</td>\n",
       "      <td>False</td>\n",
       "      <td>True</td>\n",
       "      <td>True</td>\n",
       "      <td>True</td>\n",
       "      <td>True</td>\n",
       "    </tr>\n",
       "    <tr>\n",
       "      <th>0.934779</th>\n",
       "      <td>True</td>\n",
       "      <td>True</td>\n",
       "      <td>True</td>\n",
       "      <td>True</td>\n",
       "      <td>True</td>\n",
       "      <td>True</td>\n",
       "      <td>True</td>\n",
       "      <td>True</td>\n",
       "      <td>True</td>\n",
       "      <td>False</td>\n",
       "    </tr>\n",
       "  </tbody>\n",
       "</table>\n",
       "</div>"
      ],
      "text/plain": [
       "             0     1     2      3      4      5      6     7      8      9\n",
       "0.927691  True  True  True   True   True   True   True  True   True   True\n",
       "0.927692  True  True  True   True  False   True   True  True   True   True\n",
       "0.928209  True  True  True   True   True   True  False  True   True   True\n",
       "0.928781  True  True  True   True   True   True   True  True  False   True\n",
       "0.930715  True  True  True  False   True   True   True  True   True   True\n",
       "0.930724  True  True  True  False   True   True   True  True  False   True\n",
       "0.930790  True  True  True  False   True   True  False  True   True   True\n",
       "0.931713  True  True  True  False  False   True   True  True   True   True\n",
       "0.934667  True  True  True   True   True  False   True  True   True   True\n",
       "0.934779  True  True  True   True   True   True   True  True   True  False"
      ]
     },
     "execution_count": 8,
     "metadata": {},
     "output_type": "execute_result"
    }
   ],
   "source": [
    "lm = LinearRegression()\n",
    "\n",
    "# clearly junk\n",
    "all_subsets(lm, X, y, mean_squared_error).iloc[:10,:]"
   ]
  },
  {
   "cell_type": "code",
   "execution_count": 9,
   "metadata": {},
   "outputs": [
    {
     "name": "stdout",
     "output_type": "stream",
     "text": [
      "[ 1  3  2  4  7  5  6  8  9 10]\n",
      "[1 1 1 2 5 3 4 6 7 8]\n"
     ]
    }
   ],
   "source": [
    "# Comparing with Recursive feature elimination\n",
    "lm_reduced = RFE(lm, 1, step=1)\n",
    "lm_reduced.fit(X,y)\n",
    "print(lm_reduced.ranking_)\n",
    "\n",
    "lm_reduced = RFECV(lm, cv=10, scoring='neg_mean_squared_error')\n",
    "lm_reduced.fit(X,y)\n",
    "print(lm_reduced.ranking_)\n"
   ]
  },
  {
   "cell_type": "markdown",
   "metadata": {},
   "source": [
    "#### (e) Now fit a lasso model to the simulated data, again using $X, X^2 ,\\dots , X^{10}$ as predictors. Use cross-validation to select the optimal value of $\\lambda$. Create plots of the cross-validation error as a function of $\\lambda$. Report the resulting coefficient estimates, and discuss the results obtained."
   ]
  },
  {
   "cell_type": "code",
   "execution_count": 10,
   "metadata": {},
   "outputs": [
    {
     "name": "stderr",
     "output_type": "stream",
     "text": [
      "/home/arthur/anaconda3/lib/python3.7/site-packages/sklearn/linear_model/coordinate_descent.py:475: ConvergenceWarning: Objective did not converge. You might want to increase the number of iterations. Duality gap: 73.08641734305056, tolerance: 1.899900951168187\n",
      "  positive)\n"
     ]
    },
    {
     "data": {
      "image/png": "[encoded data removed]",
      "text/plain": [
       "<Figure size 432x288 with 1 Axes>"
      ]
     },
     "metadata": {
      "needs_background": "light"
     },
     "output_type": "display_data"
    }
   ],
   "source": [
    "MSE = make_scorer(mean_squared_error, greater_is_better = False)\n",
    "\n",
    "# in sklearn, lambda -> alpha\n",
    "alpha_grid = np.logspace(-4,1,30)\n",
    "param_grid = [{'alpha':alpha_grid}]\n",
    "lasso = Lasso(max_iter = 50000)\n",
    "n_folds = 10\n",
    "cv_regressor = GridSearchCV(lasso, param_grid, cv=n_folds, n_jobs=4, scoring=MSE)\n",
    "cv_regressor.fit(X, y)\n",
    "\n",
    "scores = -cv_regressor.cv_results_['mean_test_score']\n",
    "scores_std = cv_regressor.cv_results_['std_test_score']\n",
    "_ = plt.figure()\n",
    "_ = plt.loglog(alpha_grid, scores)\n",
    "\n",
    "std_error = scores_std / np.sqrt(n_folds)\n",
    "\n",
    "_ = plt.loglog(alpha_grid, scores + std_error, 'b--')\n",
    "_ = plt.loglog(alpha_grid, scores - std_error, 'b--')\n",
    "_ = plt.fill_between(alpha_grid, scores + std_error, scores - std_error, alpha=0.2)\n",
    "\n",
    "_ = plt.ylabel('MSE +/- std error')\n",
    "_ = plt.xlabel('lambda')\n",
    "_ = plt.axhline(np.min(scores), linestyle='--', color='.5')\n",
    "_ = plt.xlim([alpha_grid[0], alpha_grid[-1]])\n",
    "plt.show()"
   ]
  },
  {
   "cell_type": "code",
   "execution_count": 11,
   "metadata": {},
   "outputs": [
    {
     "data": {
      "text/plain": [
       "array([-2.71649605e+00,  0.00000000e+00,  6.42412585e-01,  4.06548382e-01,\n",
       "        3.65880008e-01, -5.19924083e-02, -3.45480452e-02,  2.04517064e-03,\n",
       "        1.03215738e-03,  2.38163662e-06])"
      ]
     },
     "execution_count": 11,
     "metadata": {},
     "output_type": "execute_result"
    }
   ],
   "source": [
    "cv_regressor.best_estimator_.coef_"
   ]
  },
  {
   "cell_type": "markdown",
   "metadata": {},
   "source": [
    "#### (f) Now generate a response vector $Y$ according to the model \n",
    "$$\n",
    "Y = \\beta_0 + \\beta_7 X^7 + \\varepsilon,\n",
    "$$\n",
    "#### and perform best subset selection and the lasso. Discuss the results obtained."
   ]
  },
  {
   "cell_type": "code",
   "execution_count": 12,
   "metadata": {},
   "outputs": [
    {
     "name": "stdout",
     "output_type": "stream",
     "text": [
      "   N_var      AIC      BIC Feature0 Feature1 Feature2 Feature3 Feature4  \\\n",
      "6      1  258.398  263.608    False    False    False    False    False   \n",
      "66     3  260.003  270.424     True    False     True    False    False   \n",
      "15     2   260.06  267.876     True    False    False    False    False   \n",
      "50     2  260.151  267.966    False    False    False    False    False   \n",
      "41     2  260.183  267.998    False    False    False    False     True   \n",
      "51     2  260.193  268.008    False    False    False    False    False   \n",
      "49     2  260.259  268.075    False    False    False    False    False   \n",
      "23     2  260.283  268.098    False     True    False    False    False   \n",
      "30     2  260.337  268.152    False    False     True    False    False   \n",
      "45     2  260.345   268.16    False    False    False    False    False   \n",
      "36     2  260.397  268.212    False    False    False     True    False   \n",
      "\n",
      "   Feature5 Feature6 Feature7 Feature8 Feature9  \n",
      "6     False     True    False    False    False  \n",
      "66    False     True    False    False    False  \n",
      "15    False     True    False    False    False  \n",
      "50    False     True    False     True    False  \n",
      "41    False     True    False    False    False  \n",
      "51    False     True    False    False     True  \n",
      "49    False     True     True    False    False  \n",
      "23    False     True    False    False    False  \n",
      "30    False     True    False    False    False  \n",
      "45     True     True    False    False    False  \n",
      "36    False     True    False    False    False  \n",
      "   N_var      AIC      BIC Feature0 Feature1 Feature2 Feature3 Feature4  \\\n",
      "6      1  258.398  263.608    False    False    False    False    False   \n",
      "15     2   260.06  267.876     True    False    False    False    False   \n",
      "50     2  260.151  267.966    False    False    False    False    False   \n",
      "41     2  260.183  267.998    False    False    False    False     True   \n",
      "51     2  260.193  268.008    False    False    False    False    False   \n",
      "49     2  260.259  268.075    False    False    False    False    False   \n",
      "23     2  260.283  268.098    False     True    False    False    False   \n",
      "30     2  260.337  268.152    False    False     True    False    False   \n",
      "45     2  260.345   268.16    False    False    False    False    False   \n",
      "36     2  260.397  268.212    False    False    False     True    False   \n",
      "66     3  260.003  270.424     True    False     True    False    False   \n",
      "\n",
      "   Feature5 Feature6 Feature7 Feature8 Feature9  \n",
      "6     False     True    False    False    False  \n",
      "15    False     True    False    False    False  \n",
      "50    False     True    False     True    False  \n",
      "41    False     True    False    False    False  \n",
      "51    False     True    False    False     True  \n",
      "49    False     True     True    False    False  \n",
      "23    False     True    False    False    False  \n",
      "30    False     True    False    False    False  \n",
      "45     True     True    False    False    False  \n",
      "36    False     True    False    False    False  \n",
      "66    False     True    False    False    False  \n"
     ]
    }
   ],
   "source": [
    "y = 2 - 4 * x**7 + np.random.normal(0,1,100)\n",
    "\n",
    "_ = step.report_best_all(sm.OLS, y, X, 10)"
   ]
  },
  {
   "cell_type": "code",
   "execution_count": 13,
   "metadata": {},
   "outputs": [
    {
     "data": {
      "image/png": "[encoded data removed]",
      "text/plain": [
       "<Figure size 432x288 with 1 Axes>"
      ]
     },
     "metadata": {
      "needs_background": "light"
     },
     "output_type": "display_data"
    }
   ],
   "source": [
    "cv_regressor = GridSearchCV(lasso, param_grid, cv=n_folds, n_jobs=4, scoring=MSE)\n",
    "cv_regressor.fit(X, y)\n",
    "\n",
    "scores = -cv_regressor.cv_results_['mean_test_score']\n",
    "scores_std = cv_regressor.cv_results_['std_test_score']\n",
    "_ = plt.figure()\n",
    "_ = plt.loglog(alpha_grid, scores)\n",
    "\n",
    "std_error = scores_std / np.sqrt(n_folds)\n",
    "\n",
    "_ = plt.loglog(alpha_grid, scores + std_error, 'b--')\n",
    "_ = plt.loglog(alpha_grid, scores - std_error, 'b--')\n",
    "_ = plt.fill_between(alpha_grid, scores + std_error, scores - std_error, alpha=0.2)\n",
    "\n",
    "_ = plt.ylabel('MSE +/- std error')\n",
    "_ = plt.xlabel('lambda')\n",
    "_ = plt.axhline(np.min(scores), linestyle='--', color='.5')\n",
    "_ = plt.xlim([alpha_grid[0], alpha_grid[-1]])\n",
    "plt.show()"
   ]
  },
  {
   "cell_type": "code",
   "execution_count": 14,
   "metadata": {},
   "outputs": [
    {
     "data": {
      "text/plain": [
       "array([ 0.00000000e+00,  0.00000000e+00,  0.00000000e+00,  6.85479284e+00,\n",
       "       -4.17542028e+00, -2.24030728e+00, -2.73970014e+00,  1.16788599e-01,\n",
       "       -9.09678705e-02,  6.62489428e-03])"
      ]
     },
     "execution_count": 14,
     "metadata": {},
     "output_type": "execute_result"
    }
   ],
   "source": [
    "cv_regressor.best_estimator_.coef_"
   ]
  },
  {
   "cell_type": "markdown",
   "metadata": {},
   "source": [
    "### 9. In this exercise, we will predict the number of applications received using the other variables in the `College` data set.\n",
    "\n",
    "#### (a) Split the data set into a training set and a test set."
   ]
  },
  {
   "cell_type": "code",
   "execution_count": 15,
   "metadata": {},
   "outputs": [
    {
     "name": "stdout",
     "output_type": "stream",
     "text": [
      "Index(['Private', 'Apps', 'Accept', 'Enroll', 'Top10perc', 'Top25perc',\n",
      "       'F.Undergrad', 'P.Undergrad', 'Outstate', 'Room.Board', 'Books',\n",
      "       'Personal', 'PhD', 'Terminal', 'S.F.Ratio', 'perc.alumni', 'Expend',\n",
      "       'Grad.Rate'],\n",
      "      dtype='object')\n",
      "<class 'pandas.core.frame.DataFrame'>\n",
      "Index: 777 entries, Abilene Christian University to York College of Pennsylvania\n",
      "Data columns (total 18 columns):\n",
      "Private        777 non-null object\n",
      "Apps           777 non-null int64\n",
      "Accept         777 non-null int64\n",
      "Enroll         777 non-null int64\n",
      "Top10perc      777 non-null int64\n",
      "Top25perc      777 non-null int64\n",
      "F.Undergrad    777 non-null int64\n",
      "P.Undergrad    777 non-null int64\n",
      "Outstate       777 non-null int64\n",
      "Room.Board     777 non-null int64\n",
      "Books          777 non-null int64\n",
      "Personal       777 non-null int64\n",
      "PhD            777 non-null int64\n",
      "Terminal       777 non-null int64\n",
      "S.F.Ratio      777 non-null float64\n",
      "perc.alumni    777 non-null int64\n",
      "Expend         777 non-null int64\n",
      "Grad.Rate      777 non-null int64\n",
      "dtypes: float64(1), int64(16), object(1)\n",
      "memory usage: 115.3+ KB\n",
      "None\n"
     ]
    }
   ],
   "source": [
    "College = pd.read_csv('College.csv', index_col=[0])\n",
    "print(College.columns)\n",
    "print(College.info())"
   ]
  },
  {
   "cell_type": "code",
   "execution_count": 16,
   "metadata": {},
   "outputs": [
    {
     "data": {
      "text/plain": [
       "Index(['Accept', 'Enroll', 'Top10perc', 'Top25perc', 'F.Undergrad',\n",
       "       'P.Undergrad', 'Outstate', 'Room.Board', 'Books', 'Personal', 'PhD',\n",
       "       'Terminal', 'S.F.Ratio', 'perc.alumni', 'Expend', 'Grad.Rate',\n",
       "       'Private_Yes'],\n",
       "      dtype='object')"
      ]
     },
     "execution_count": 16,
     "metadata": {},
     "output_type": "execute_result"
    }
   ],
   "source": [
    "y = College['Apps']\n",
    "X = pd.get_dummies(College.drop('Apps', axis=1), drop_first=True)\n",
    "X.columns"
   ]
  },
  {
   "cell_type": "code",
   "execution_count": 17,
   "metadata": {},
   "outputs": [],
   "source": [
    "X_train, X_test, y_train, y_test = train_test_split(X, y, test_size=.25)"
   ]
  },
  {
   "cell_type": "markdown",
   "metadata": {},
   "source": [
    "#### (b) Fit a linear model using least squares on the training set, and report the test error obtained."
   ]
  },
  {
   "cell_type": "code",
   "execution_count": 18,
   "metadata": {},
   "outputs": [
    {
     "name": "stdout",
     "output_type": "stream",
     "text": [
      "741465.4483133695\n"
     ]
    }
   ],
   "source": [
    "lm.fit(X_train, y_train)\n",
    "y_pred = lm.predict(X_test)\n",
    "lm_mse = mean_squared_error(y_test, y_pred)\n",
    "print(lm_mse)"
   ]
  },
  {
   "cell_type": "markdown",
   "metadata": {},
   "source": [
    "#### (c) Fit a ridge regression model on the training set, with $\\lambda$ chosen by cross-validation. Report the test error obtained.\n",
    "\n",
    "#### (d) Fit a lasso model on the training set, with $\\lambda$ chosen by cross-validation. Report the test error obtained, along with the number of non-zero coefficient estimates."
   ]
  },
  {
   "cell_type": "code",
   "execution_count": 19,
   "metadata": {},
   "outputs": [
    {
     "name": "stdout",
     "output_type": "stream",
     "text": [
      "\n",
      " Ridge \n",
      "\n",
      "{'alpha': 3562.2478902624443}\n",
      "             Parameter\n",
      "Accept        1.436295\n",
      "Enroll       -1.558094\n",
      "Top10perc    31.399263\n",
      "Top25perc    -6.226266\n",
      "F.Undergrad   0.284645\n",
      "P.Undergrad  -0.072825\n",
      "Outstate     -0.042222\n",
      "Room.Board    0.140458\n",
      "Books         0.309066\n",
      "Personal     -0.113379\n",
      "PhD          -2.632332\n",
      "Terminal     -1.775555\n",
      "S.F.Ratio     7.330182\n",
      "perc.alumni  -2.145560\n",
      "Expend        0.005563\n",
      "Grad.Rate     2.284762\n",
      "Private_Yes  -0.938153\n",
      "\n",
      "CV MSE:  677326.9071812003\n",
      "Test MSE:  479915.06385161466\n",
      "\n",
      " Lasso \n",
      "\n",
      "{'alpha': 385.6620421163472}\n",
      "             Parameter\n",
      "Accept        1.446437\n",
      "Enroll       -1.529583\n",
      "Top10perc    31.687666\n",
      "Top25perc    -5.096704\n",
      "F.Undergrad   0.273022\n",
      "P.Undergrad  -0.070886\n",
      "Outstate     -0.046538\n",
      "Room.Board    0.140375\n",
      "Books         0.259589\n",
      "Personal     -0.103187\n",
      "PhD          -1.076766\n",
      "Terminal     -0.581784\n",
      "S.F.Ratio     0.000000\n",
      "perc.alumni  -0.000000\n",
      "Expend       -0.002617\n",
      "Grad.Rate     0.000000\n",
      "Private_Yes  -0.000000\n",
      "\n",
      "CV MSE:  677339.059570622\n",
      "Test MSE:  485008.7670473984\n"
     ]
    }
   ],
   "source": [
    "ridge = Ridge(tol=10**(-12))\n",
    "lasso = Lasso(max_iter = 100000)\n",
    "\n",
    "regressors = [ridge, lasso]\n",
    "reg_names = ['Ridge', 'Lasso']\n",
    "\n",
    "alpha_grid = np.logspace(-2, 5, 30)\n",
    "param_grid = [{'alpha':alpha_grid}]\n",
    "n_fold = 10\n",
    "for n_, reg in zip(reg_names,regressors):\n",
    "    print('\\n', n_, '\\n')\n",
    "    reg_cv = GridSearchCV(reg, param_grid, cv=10, scoring='neg_mean_squared_error', iid=False)\n",
    "    reg_cv.fit(X_test, y_test)\n",
    "    print(reg_cv.best_params_)\n",
    "    print(pd.DataFrame({'Parameter':reg_cv.best_estimator_.coef_}, X_test.columns))\n",
    "    print('\\nCV MSE: ',-reg_cv.best_score_)\n",
    "\n",
    "    y_pred = reg_cv.predict(X_test)\n",
    "    reg_test_mse = mean_squared_error(y_test, y_pred)\n",
    "    print('Test MSE: ',reg_test_mse)\n",
    "    "
   ]
  },
  {
   "cell_type": "markdown",
   "metadata": {},
   "source": [
    "#### (e) Fit a PCR model on the training set, with $M$ chosen by cross-validation. Report the test error obtained, along with the value of $M$ selected by cross-validation."
   ]
  },
  {
   "cell_type": "code",
   "execution_count": 20,
   "metadata": {},
   "outputs": [
    {
     "name": "stdout",
     "output_type": "stream",
     "text": [
      "{'reduce__n_components': 11}\n",
      "Test MSE:  533002.3602170128\n"
     ]
    }
   ],
   "source": [
    "pca = PCA()\n",
    "\n",
    "pipe = Pipeline(steps=[\n",
    "    ('reduce',pca),\n",
    "    ('model',lm),\n",
    "])\n",
    "\n",
    "param_grid = [{'reduce__n_components':[x for x in range(1,18)]}]\n",
    "\n",
    "pca_cv = GridSearchCV(pipe, param_grid, cv=10, iid=False, scoring='neg_mean_squared_error')\n",
    "pca_cv.fit(X_test, y_test)\n",
    "print(pca_cv.best_params_)\n",
    "\n",
    "y_pred = pca_cv.predict(X_test)\n",
    "reg_test_mse = mean_squared_error(y_test, y_pred)\n",
    "print('Test MSE: ',reg_test_mse)"
   ]
  },
  {
   "cell_type": "markdown",
   "metadata": {},
   "source": [
    "#### (f) Fit a PLS model on the training set, with $M$ chosen by cross-validation. Report the test error obtained, along with the value of $M$ selected by cross-validation."
   ]
  },
  {
   "cell_type": "code",
   "execution_count": 21,
   "metadata": {},
   "outputs": [
    {
     "name": "stdout",
     "output_type": "stream",
     "text": [
      "{'n_components': 11}\n",
      "Test MSE:  467745.66659924504\n"
     ]
    }
   ],
   "source": [
    "pls = PLSRegression()\n",
    "param_grid = [{'n_components':[x for x in range(1,18)]}]\n",
    "pls_cv = GridSearchCV(pls, param_grid, cv=10, iid=False, scoring='neg_mean_squared_error')\n",
    "pls_cv.fit(X_test, y_test)\n",
    "print(pls_cv.best_params_)\n",
    "\n",
    "y_pred = pls_cv.predict(X_test)\n",
    "reg_test_mse = mean_squared_error(y_test, y_pred)\n",
    "print('Test MSE: ',reg_test_mse)"
   ]
  },
  {
   "cell_type": "markdown",
   "metadata": {},
   "source": [
    "#### (g) Comment on the results obtained. How accurately can we predict the number of college applications received? Is there much difference among the test errors resulting from these five approaches?"
   ]
  },
  {
   "cell_type": "markdown",
   "metadata": {},
   "source": [
    "### 10. We have seen that as the number of features used in a model increases, the training error will necessarily decrease, but the test error may not. We will now explore this in a simulated data set.\n",
    "\n",
    "#### (a) Generate a data set with $p = 20$ features, $n = 1,000$ observations, and an associated quantitative response vector generated according to the model\n",
    "$$\n",
    "Y = X\\beta + \\varepsilon,\n",
    "$$\n",
    "#### where $\\beta$ has some elements that are exactly equal to zero."
   ]
  },
  {
   "cell_type": "code",
   "execution_count": 22,
   "metadata": {},
   "outputs": [
    {
     "name": "stdout",
     "output_type": "stream",
     "text": [
      "[1 2 0 3 3 3 0 2 1 3 1 2 0 0 2 1 3 1 0 0]\n",
      "(1000,)\n"
     ]
    }
   ],
   "source": [
    "np.random.seed(987432)\n",
    "X = np.random.normal(0, 1, (1000,20))\n",
    "beta = np.random.choice(4, 20, replace=True)\n",
    "print(beta)\n",
    "y = np.dot(X, beta) + np.random.normal(0,1,1000)\n",
    "print(y.shape)"
   ]
  },
  {
   "cell_type": "markdown",
   "metadata": {},
   "source": [
    "#### (b) Split your data set into a training set containing 100 observations and a test set containing 900 observations."
   ]
  },
  {
   "cell_type": "code",
   "execution_count": 23,
   "metadata": {},
   "outputs": [],
   "source": [
    "X_train, X_test, y_train, y_test = train_test_split(X, y, train_size=100)"
   ]
  },
  {
   "cell_type": "markdown",
   "metadata": {},
   "source": [
    "#### (c) Perform best subset selection on the training set, and plot the training set MSE associated with the best model of each size."
   ]
  },
  {
   "cell_type": "code",
   "execution_count": null,
   "metadata": {},
   "outputs": [],
   "source": [
    "nfeatures = X_train.shape[1]\n",
    "models = []\n",
    "MSE_values = []\n",
    "features = []\n",
    "\n",
    "for i in range(nfeatures):\n",
    "    MSE_values.append(-1)\n",
    "    models.append(0)\n",
    "    features.append(0)\n",
    "    for j in combinations(np.arange(X.shape[1]),i+1):\n",
    "        model = LinearRegression()\n",
    "        model.fit(X_train[:,j], y_train)\n",
    "        y_pred = model.predict(X_train[:,j])\n",
    "        mse = mean_squared_error(y_train, y_pred)\n",
    "        if MSE_values[i] == -1 or MSE_values[i] > mse:\n",
    "            MSE_values[i] = mse\n",
    "            models[i] = model\n",
    "            features[i] = j\n",
    "print(MSE_values)\n",
    "print(features)"
   ]
  },
  {
   "cell_type": "code",
   "execution_count": null,
   "metadata": {},
   "outputs": [],
   "source": [
    "plt.semilogy(np.arange(1,nfeatures+1), MSE_values)\n",
    "plt.show()"
   ]
  },
  {
   "cell_type": "markdown",
   "metadata": {},
   "source": [
    "#### (d) Plot the test set MSE associated with the best model of each size."
   ]
  },
  {
   "cell_type": "code",
   "execution_count": null,
   "metadata": {},
   "outputs": [],
   "source": [
    "MSE_test_values = []\n",
    "for model, feat in zip(models,features):\n",
    "    y_pred = model.predict(X_test[:,feat])\n",
    "    MSE_test_values.append(mean_squared_error(y_test, y_pred))\n",
    "\n",
    "plt.semilogy(np.arange(1, nfeatures+1), MSE_test_values)\n",
    "plt.show()\n",
    "\n",
    "print(MSE_test_values)"
   ]
  },
  {
   "cell_type": "markdown",
   "metadata": {},
   "source": [
    "#### (e) For which model size does the test set MSE take on its minimum value? Comment on your results. If it takes on its minimum value for a model containing only an intercept or a model containing all of the features, then play around with the way that you are generating the data in (a) until you come up with a scenario in which the test set MSE is minimized for an intermediate model size."
   ]
  },
  {
   "cell_type": "code",
   "execution_count": null,
   "metadata": {},
   "outputs": [],
   "source": [
    "id_best = np.argmin(MSE_test_values) \n",
    "print(id_best+1,' features')\n",
    "print(features[id_best])"
   ]
  },
  {
   "cell_type": "markdown",
   "metadata": {},
   "source": [
    "#### (f) How does the model at which the test set MSE is minimized compare to the true model used to generate the data? Comment on the coefficient values."
   ]
  },
  {
   "cell_type": "code",
   "execution_count": null,
   "metadata": {},
   "outputs": [],
   "source": [
    "beta_hat = np.zeros(nfeatures)\n",
    "for n, i in enumerate(features[id_best]):\n",
    "    beta_hat[i] = models[id_best].coef_[n]\n",
    "print(list(zip(beta, beta_hat)))"
   ]
  },
  {
   "cell_type": "markdown",
   "metadata": {},
   "source": [
    "#### (g) Create a plot displaying $\\sqrt{\\sum_{j=1}^p(\\beta_j-\\hat\\beta^r_j)^2}$ for a range of values of $r$, where $\\hat\\beta^r_j$ is the $j$th coefficient estimate for the best model containing $r$ coefficients. Comment on what you observe. How does this compare to the test MSE plot from (d)?"
   ]
  },
  {
   "cell_type": "code",
   "execution_count": null,
   "metadata": {},
   "outputs": [],
   "source": [
    "statistic = np.zeros(nfeatures)\n",
    "for j in range(nfeatures):\n",
    "    beta_hat = np.zeros(nfeatures)\n",
    "    for n, i in enumerate(features[j]):\n",
    "        beta_hat[i] = models[j].coef_[n]\n",
    "    statistic[j] = np.sqrt(np.sum((beta-beta_hat)**2))\n",
    "\n",
    "plt.semilogy(np.arange(1,nfeatures+1),statistic)\n",
    "plt.show()"
   ]
  },
  {
   "cell_type": "markdown",
   "metadata": {},
   "source": [
    "### 11. We will now try to predict per capita crime rate in the `Boston` data set.\n",
    "\n",
    "#### (a) Try out some of the regression methods explored in this chapter, such as best subset selection, the lasso, ridge regression, and PCR. Present and discuss results for the approaches that you consider."
   ]
  },
  {
   "cell_type": "code",
   "execution_count": null,
   "metadata": {},
   "outputs": [],
   "source": [
    "from sklearn.datasets import load_boston\n",
    "\n",
    "X, y = load_boston(return_X_y = True)\n",
    "print(X.shape, y.shape)"
   ]
  },
  {
   "cell_type": "code",
   "execution_count": null,
   "metadata": {},
   "outputs": [],
   "source": [
    "lm_rfe = LinearRegression()\n",
    "lm_pca = LinearRegression()\n",
    "lasso = Lasso(max_iter = 100000)\n",
    "ridge = Ridge(tol=10^(-12))\n",
    "pca = PCA()\n",
    "pls = PLSRegression()\n",
    "rfe = RFE(lm_rfe)\n",
    "\n",
    "folds = 10\n",
    "reps = 10\n",
    "\n",
    "pipe_pca = Pipeline(steps=[\n",
    "    ('reduce', pca),\n",
    "    ('regress', lm_pca)\n",
    "])\n",
    "\n",
    "pipe_rfe = Pipeline(steps=[\n",
    "    ('reduce', rfe),\n",
    "    ('regress', lm_rfe)\n",
    "])\n",
    "\n",
    "alpha_grid = np.logspace(-4,4,50)\n",
    "nfeatures = [i+1 for i in range(X.shape[1])]\n",
    "\n",
    "regressors = [pipe_rfe, lasso, ridge, pipe_pca, pls]\n",
    "reg_names = ['Backward', 'Lasso', 'Ridge', 'Principal Component', 'Partial Least Squares']\n",
    "grids = [\n",
    "    [{'reduce__n_features_to_select' : nfeatures}],  # rfe\n",
    "    [{'alpha'                        : alpha_grid}], # lasso\n",
    "    [{'alpha'                        : alpha_grid}], # ridge\n",
    "    [{'reduce__n_components'         : nfeatures}],  # pca\n",
    "    [{'n_components'                 : nfeatures}],  # pls\n",
    "]\n",
    "\n",
    "scores = []\n",
    "models = []\n",
    "for reg, grid, nn in zip(regressors, grids, reg_names):\n",
    "    model = GridSearchCV(reg, grid, \n",
    "                         cv=RepeatedKFold(folds,reps), \n",
    "                         iid=False, \n",
    "                         scoring='neg_mean_squared_error',\n",
    "                         n_jobs=4,\n",
    "                        )\n",
    "    model.fit(X, y)\n",
    "    models.append(model)\n",
    "    scores.append(-model.best_score_)\n",
    "    print(f'Model: {nn}')\n",
    "    print(f'Selected parameters: {model.best_params_}')\n",
    "    print(f'Mean Squared Error from Cross Validation {-model.best_score_}')\n",
    "    print('\\n')\n",
    "\n",
    "print(f'Best model is {reg_names[np.argmin(scores)]} with CV MSE {np.min(scores)}')"
   ]
  },
  {
   "cell_type": "code",
   "execution_count": null,
   "metadata": {},
   "outputs": [],
   "source": [
    "for model in models:\n",
    "    low = model.cv_results_['mean_test_score'][model.best_index_] - \\\n",
    "          2 *  model.cv_results_['std_test_score'][model.best_index_] \\\n",
    "          / np.sqrt(folds*reps)\n",
    "    high = model.cv_results_['mean_test_score'][model.best_index_] + \\\n",
    "           2 * model.cv_results_['std_test_score'][model.best_index_] \\\n",
    "           / np.sqrt(folds*reps)\n",
    "    print((low,high))"
   ]
  },
  {
   "cell_type": "markdown",
   "metadata": {},
   "source": [
    "#### (b) Propose a model (or set of models) that seem to perform well on this data set, and justify your answer. Make sure that you are evaluating model performance using validation set error, cross-validation, or some other reasonable alternative, as opposed to using training error.\n",
    "\n",
    "The MSE of all models actually look very similar. There is no significant difference between them.\n",
    "\n",
    "#### (c) Does your chosen model involve all of the features in the data set? Why or why not?"
   ]
  }
 ],
 "metadata": {
  "kernelspec": {
   "display_name": "Python 3",
   "language": "python",
   "name": "python3"
  },
  "language_info": {
   "codemirror_mode": {
    "name": "ipython",
    "version": 3
   },
   "file_extension": ".py",
   "mimetype": "text/x-python",
   "name": "python",
   "nbconvert_exporter": "python",
   "pygments_lexer": "ipython3",
   "version": "3.7.4"
  }
 },
 "nbformat": 4,
 "nbformat_minor": 2
}
