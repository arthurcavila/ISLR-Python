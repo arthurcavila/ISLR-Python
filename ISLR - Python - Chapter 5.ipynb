{
 "cells": [
  {
   "cell_type": "markdown",
   "metadata": {},
   "source": [
    "# ISLR Chapter 5 - End of Chapter Applied exercises code portion solutions¶\n",
    "\n",
    "Exercises from: \"An Introduction to Statistical Learning with Applications in R\" (Springer, 2013) by Gareth James, Daniela Witten, Trevor Hastie and Robert Tibshirani\n",
    "\n",
    "Data: http://faculty.marshall.usc.edu/gareth-james/ISL/data.html\n",
    "\n",
    "Code Solutions in Python by Arthur Avila"
   ]
  },
  {
   "cell_type": "markdown",
   "metadata": {},
   "source": [
    "### 5. In Chapter 4, we used logistic regression to predict the probability of default using income and balance on the `Default` data set. We will now estimate the test error of this logistic regression model using the validation set approach. Do not forget to set a random seed before beginning your analysis.\n",
    "\n",
    "#### (a) Fit a logistic regression model that uses income and balance to predict default ."
   ]
  },
  {
   "cell_type": "code",
   "execution_count": 1,
   "metadata": {},
   "outputs": [
    {
     "name": "stdout",
     "output_type": "stream",
     "text": [
      "<class 'pandas.core.frame.DataFrame'>\n",
      "RangeIndex: 10000 entries, 0 to 9999\n",
      "Data columns (total 5 columns):\n",
      "Unnamed: 0    10000 non-null int64\n",
      "default       10000 non-null object\n",
      "student       10000 non-null object\n",
      "balance       10000 non-null float64\n",
      "income        10000 non-null float64\n",
      "dtypes: float64(2), int64(1), object(2)\n",
      "memory usage: 390.8+ KB\n"
     ]
    }
   ],
   "source": [
    "import numpy as np\n",
    "import pandas as pd\n",
    "Default = pd.read_csv('Default.csv')\n",
    "Default.info()"
   ]
  },
  {
   "cell_type": "code",
   "execution_count": 2,
   "metadata": {},
   "outputs": [
    {
     "name": "stdout",
     "output_type": "stream",
     "text": [
      "                        Generalized Linear Model Regression Results                        \n",
      "===========================================================================================\n",
      "Dep. Variable:     ['default[No]', 'default[Yes]']   No. Observations:                10000\n",
      "Model:                                         GLM   Df Residuals:                     9997\n",
      "Model Family:                             Binomial   Df Model:                            2\n",
      "Link Function:                               logit   Scale:                          1.0000\n",
      "Method:                                       IRLS   Log-Likelihood:                -789.48\n",
      "Date:                             Thu, 03 Oct 2019   Deviance:                       1579.0\n",
      "Time:                                     12:31:16   Pearson chi2:                 6.95e+03\n",
      "No. Iterations:                                  9                                         \n",
      "Covariance Type:                         nonrobust                                         \n",
      "==============================================================================\n",
      "                 coef    std err          z      P>|z|      [0.025      0.975]\n",
      "------------------------------------------------------------------------------\n",
      "Intercept     11.5405      0.435     26.544      0.000      10.688      12.393\n",
      "balance       -0.0056      0.000    -24.835      0.000      -0.006      -0.005\n",
      "income     -2.081e-05   4.99e-06     -4.174      0.000   -3.06e-05    -1.1e-05\n",
      "==============================================================================\n",
      "Optimization terminated successfully.\n",
      "         Current function value: 0.078948\n",
      "         Iterations 10\n",
      "                           Logit Regression Results                           \n",
      "==============================================================================\n",
      "Dep. Variable:                default   No. Observations:                10000\n",
      "Model:                          Logit   Df Residuals:                     9997\n",
      "Method:                           MLE   Df Model:                            2\n",
      "Date:                Thu, 03 Oct 2019   Pseudo R-squ.:                  0.4594\n",
      "Time:                        12:31:16   Log-Likelihood:                -789.48\n",
      "converged:                       True   LL-Null:                       -1460.3\n",
      "Covariance Type:            nonrobust   LLR p-value:                4.541e-292\n",
      "==============================================================================\n",
      "                 coef    std err          z      P>|z|      [0.025      0.975]\n",
      "------------------------------------------------------------------------------\n",
      "const        -11.5405      0.435    -26.544      0.000     -12.393     -10.688\n",
      "x1             0.0056      0.000     24.835      0.000       0.005       0.006\n",
      "x2          2.081e-05   4.99e-06      4.174      0.000     1.1e-05    3.06e-05\n",
      "==============================================================================\n",
      "\n",
      "Possibly complete quasi-separation: A fraction 0.14 of observations can be\n",
      "perfectly predicted. This might indicate that there is complete\n",
      "quasi-separation. In this case some parameters will not be identified.\n"
     ]
    }
   ],
   "source": [
    "import statsmodels.formula.api as smf\n",
    "import statsmodels.api as sm\n",
    "\n",
    "y = Default.default=='Yes'\n",
    "features = ['balance','income']\n",
    "X = np.c_[np.ones(len(y)),Default[features]]\n",
    "\n",
    "model = smf.glm('default~balance+income', data = Default, family=sm.families.Binomial()).fit()\n",
    "print(model.summary())\n",
    "\n",
    "model2 = sm.Logit(y,X).fit()\n",
    "print(model2.summary())"
   ]
  },
  {
   "cell_type": "markdown",
   "metadata": {},
   "source": [
    "### (b) Using the validation set approach, estimate the test error of this model. In order to do this, you must perform the following steps:  \n",
    "\n",
    "  i. Split the sample set into a training set and a validation set.  \n",
    "\n",
    "  ii. Fit a multiple logistic regression model using only the training observations.  \n",
    "  \n",
    "  iii. Obtain a prediction of default status for each individual in the validation set by computing the posterior probability of default for that individual, and classifying the individual to the default category if the posterior probability is greater than 0.5.  \n",
    "  \n",
    "  iv. Compute the validation set error, which is the fraction of the observations in the validation set that are misclassified."
   ]
  },
  {
   "cell_type": "code",
   "execution_count": 3,
   "metadata": {},
   "outputs": [
    {
     "data": {
      "text/plain": [
       "[[1, 8, 7, 3, 9], [8, 6, 6, 6, 8]]"
      ]
     },
     "execution_count": 3,
     "metadata": {},
     "output_type": "execute_result"
    }
   ],
   "source": [
    "import random\n",
    "random.seed(999)\n",
    "[random.sample(range(10),5), random.choices(range(10),k=5)]"
   ]
  },
  {
   "cell_type": "code",
   "execution_count": 4,
   "metadata": {},
   "outputs": [
    {
     "name": "stdout",
     "output_type": "stream",
     "text": [
      "Optimization terminated successfully.\n",
      "         Current function value: 0.081664\n",
      "         Iterations 10\n",
      "\n",
      " default  False  True \n",
      "row_0                \n",
      "False     2414     58\n",
      "True         6     22\n",
      "\n",
      "Error rate: 0.0256\n"
     ]
    }
   ],
   "source": [
    "def tt_split(y,X,seed=1478523690):\n",
    "    random.seed(seed)\n",
    "    train = np.sort(random.sample(range(len(y)),round(3*len(y)/4)))\n",
    "    test = [x for x in range(10000) if x not in train]\n",
    "    return(y[train], y[test], X[train,:], X[test,:])\n",
    "\n",
    "def reportf(seed=1478523690):\n",
    "    y_train, y_test, X_train, X_test = tt_split(y,X,seed)\n",
    "\n",
    "    model1 = sm.Logit(y_train,X_train).fit()\n",
    "    predicted = model1.predict(X_test)>.5\n",
    "    confusion = pd.crosstab(predicted, y_test)\n",
    "    print('\\n',confusion)\n",
    "\n",
    "    error = np.mean(predicted!=y_test)\n",
    "    print('\\nError rate:',error)\n",
    "\n",
    "reportf()"
   ]
  },
  {
   "cell_type": "markdown",
   "metadata": {},
   "source": [
    "### (c) Repeat the process in (b) three times, using three different splits of the observations into a training set and a validation set. Comment on the results obtained."
   ]
  },
  {
   "cell_type": "code",
   "execution_count": 5,
   "metadata": {},
   "outputs": [
    {
     "name": "stdout",
     "output_type": "stream",
     "text": [
      "Optimization terminated successfully.\n",
      "         Current function value: 0.077294\n",
      "         Iterations 10\n",
      "\n",
      " default  False  True \n",
      "row_0                \n",
      "False     2405     55\n",
      "True         8     32\n",
      "\n",
      "Error rate: 0.0252\n",
      "Optimization terminated successfully.\n",
      "         Current function value: 0.078460\n",
      "         Iterations 10\n",
      "\n",
      " default  False  True \n",
      "row_0                \n",
      "False     2406     53\n",
      "True        14     27\n",
      "\n",
      "Error rate: 0.0268\n",
      "Optimization terminated successfully.\n",
      "         Current function value: 0.078858\n",
      "         Iterations 10\n",
      "\n",
      " default  False  True \n",
      "row_0                \n",
      "False     2405     54\n",
      "True        15     26\n",
      "\n",
      "Error rate: 0.0276\n"
     ]
    },
    {
     "data": {
      "text/plain": [
       "[None, None, None]"
      ]
     },
     "execution_count": 5,
     "metadata": {},
     "output_type": "execute_result"
    }
   ],
   "source": [
    "[reportf(seed) for seed in (2001, 36, 111111)]"
   ]
  },
  {
   "cell_type": "markdown",
   "metadata": {},
   "source": [
    "### (d) Now consider a logistic regression model that predicts the probability of default using `income`, `balance`, and a dummy variable for `student`. Estimate the test error for this model using the validation set approach. Comment on whether or not including a dummy variable for student leads to a reduction in the test error rate."
   ]
  },
  {
   "cell_type": "code",
   "execution_count": 6,
   "metadata": {},
   "outputs": [
    {
     "name": "stdout",
     "output_type": "stream",
     "text": [
      "Optimization terminated successfully.\n",
      "         Current function value: 0.081232\n",
      "         Iterations 10\n",
      "\n",
      " default  False  True \n",
      "row_0                \n",
      "False     2413     59\n",
      "True         7     21\n",
      "\n",
      "Error rate: 0.0264\n"
     ]
    }
   ],
   "source": [
    "student = Default.student=='Yes'\n",
    "X = np.c_[X,student]\n",
    "reportf()"
   ]
  },
  {
   "cell_type": "markdown",
   "metadata": {},
   "source": [
    "### 6. We continue to consider the use of a logistic regression model to predict the probability of default using `income` and `balance` on the `Default` data set. In particular, we will now compute estimates for the standard errors of the `income` and `balance` logistic regression coefficients in two different ways: (1) using the bootstrap, and (2) using the standard formula for computing the standard errors in the `glm()` function. Do not forget to set a random seed before beginning your analysis.\n",
    "\n",
    "#### (a) Using the `summary()` and `glm()` functions, determine the estimated standard errors for the coefficients associated with `income` and `balance` in a multiple logistic regression model that uses both predictors."
   ]
  },
  {
   "cell_type": "code",
   "execution_count": 7,
   "metadata": {},
   "outputs": [
    {
     "name": "stdout",
     "output_type": "stream",
     "text": [
      "Optimization terminated successfully.\n",
      "         Current function value: 0.078948\n",
      "         Iterations 10\n",
      "                           Logit Regression Results                           \n",
      "==============================================================================\n",
      "Dep. Variable:                default   No. Observations:                10000\n",
      "Model:                          Logit   Df Residuals:                     9997\n",
      "Method:                           MLE   Df Model:                            2\n",
      "Date:                Thu, 03 Oct 2019   Pseudo R-squ.:                  0.4594\n",
      "Time:                        12:31:18   Log-Likelihood:                -789.48\n",
      "converged:                       True   LL-Null:                       -1460.3\n",
      "Covariance Type:            nonrobust   LLR p-value:                4.541e-292\n",
      "==============================================================================\n",
      "                 coef    std err          z      P>|z|      [0.025      0.975]\n",
      "------------------------------------------------------------------------------\n",
      "const        -11.5405      0.435    -26.544      0.000     -12.393     -10.688\n",
      "x1             0.0056      0.000     24.835      0.000       0.005       0.006\n",
      "x2          2.081e-05   4.99e-06      4.174      0.000     1.1e-05    3.06e-05\n",
      "==============================================================================\n",
      "\n",
      "Possibly complete quasi-separation: A fraction 0.14 of observations can be\n",
      "perfectly predicted. This might indicate that there is complete\n",
      "quasi-separation. In this case some parameters will not be identified.\n"
     ]
    }
   ],
   "source": [
    "random.seed(42)\n",
    "X = X[:,0:3]\n",
    "model = sm.Logit(y,X).fit()\n",
    "print(model.summary())"
   ]
  },
  {
   "cell_type": "markdown",
   "metadata": {},
   "source": [
    "### (b) Write a function, `boot.fn()`, that takes as input the `Default` data set as well as an index of the observations, and that outputs the coefficient estimates for income and balance in the multiple logistic regression model."
   ]
  },
  {
   "cell_type": "code",
   "execution_count": 8,
   "metadata": {},
   "outputs": [
    {
     "data": {
      "text/plain": [
       "[0.005497426814658693, 2.3440937491704654e-05]"
      ]
     },
     "execution_count": 8,
     "metadata": {},
     "output_type": "execute_result"
    }
   ],
   "source": [
    "def bootf(y,X):\n",
    "    idbs = random.choices(range(len(y)),k=len(y))\n",
    "    yb = y[idbs]\n",
    "    Xb = X[idbs,:]\n",
    "    model = sm.Logit(yb,Xb).fit(disp=False)\n",
    "    return([x for x in model.params[1:]])\n",
    "\n",
    "bootf(y,X)"
   ]
  },
  {
   "cell_type": "markdown",
   "metadata": {},
   "source": [
    "### (c) Use the `boot()` function together with your `boot.fn()` function to estimate the standard errors of the logistic regression coefficients for `income` and `balance`."
   ]
  },
  {
   "cell_type": "code",
   "execution_count": 9,
   "metadata": {},
   "outputs": [
    {
     "name": "stdout",
     "output_type": "stream",
     "text": [
      "    original          bias  Standard_Deviation\n",
      "x1  0.005647  8.305576e-07            0.000229\n",
      "x2  0.000021  7.452845e-09            0.000005\n"
     ]
    }
   ],
   "source": [
    "def boot(y,X,bootf,R):\n",
    "    mat = np.stack([bootf(y,X) for i in range(R)])\n",
    "    original = sm.Logit(y,X).fit(disp=False).params[1:]\n",
    "    bias = original - mat.mean(axis=0)\n",
    "    std = mat.std(axis=0)\n",
    "    summ = {'original': original, 'bias': bias, 'Standard_Deviation': std}\n",
    "    print(pd.DataFrame(summ))\n",
    "    return summ\n",
    "\n",
    "bs = boot(y,X,bootf,1000)"
   ]
  },
  {
   "cell_type": "markdown",
   "metadata": {},
   "source": [
    "#### (d) Comment on the estimated standard errors obtained using the `glm()` function and using your bootstrap function."
   ]
  },
  {
   "cell_type": "markdown",
   "metadata": {},
   "source": [
    "### 7. In Sections 5.3.2 and 5.3.3, we saw that the `cv.glm()` function can be used in order to compute the LOOCV test error estimate. Alternatively, one could compute those quantities using just the `glm()` and `predict.glm()` functions, and a for loop. You will now take this approach in order to compute the LOOCV error for a simple logistic regression model on the `Weekly` data set. Recall that in the context of classification problems, the LOOCV error is given in (5.4).\n",
    "\n",
    "#### (a) Fit a logistic regression model that predicts `Direction` using `Lag1` and `Lag2`."
   ]
  },
  {
   "cell_type": "code",
   "execution_count": 10,
   "metadata": {},
   "outputs": [
    {
     "name": "stdout",
     "output_type": "stream",
     "text": [
      "<class 'pandas.core.frame.DataFrame'>\n",
      "RangeIndex: 1089 entries, 0 to 1088\n",
      "Data columns (total 10 columns):\n",
      "Unnamed: 0    1089 non-null int64\n",
      "Year          1089 non-null int64\n",
      "Lag1          1089 non-null float64\n",
      "Lag2          1089 non-null float64\n",
      "Lag3          1089 non-null float64\n",
      "Lag4          1089 non-null float64\n",
      "Lag5          1089 non-null float64\n",
      "Volume        1089 non-null float64\n",
      "Today         1089 non-null float64\n",
      "Direction     1089 non-null object\n",
      "dtypes: float64(7), int64(2), object(1)\n",
      "memory usage: 85.2+ KB\n",
      "None\n"
     ]
    }
   ],
   "source": [
    "Weekly = pd.read_csv('Weekly.csv')\n",
    "print(Weekly.info())\n",
    "y = Weekly.Direction == 'Up'\n",
    "X = np.c_[np.ones(len(y)),Weekly[['Lag1','Lag2']]]"
   ]
  },
  {
   "cell_type": "code",
   "execution_count": 11,
   "metadata": {},
   "outputs": [
    {
     "name": "stdout",
     "output_type": "stream",
     "text": [
      "                           Logit Regression Results                           \n",
      "==============================================================================\n",
      "Dep. Variable:              Direction   No. Observations:                 1089\n",
      "Model:                          Logit   Df Residuals:                     1086\n",
      "Method:                           MLE   Df Model:                            2\n",
      "Date:                Thu, 03 Oct 2019   Pseudo R-squ.:                0.005335\n",
      "Time:                        12:31:42   Log-Likelihood:                -744.11\n",
      "converged:                       True   LL-Null:                       -748.10\n",
      "Covariance Type:            nonrobust   LLR p-value:                   0.01848\n",
      "==============================================================================\n",
      "                 coef    std err          z      P>|z|      [0.025      0.975]\n",
      "------------------------------------------------------------------------------\n",
      "const          0.2212      0.061      3.599      0.000       0.101       0.342\n",
      "x1            -0.0387      0.026     -1.477      0.140      -0.090       0.013\n",
      "x2             0.0602      0.027      2.270      0.023       0.008       0.112\n",
      "==============================================================================\n"
     ]
    }
   ],
   "source": [
    "model = sm.Logit(y,X).fit(disp=0)\n",
    "print(model.summary())"
   ]
  },
  {
   "cell_type": "markdown",
   "metadata": {},
   "source": [
    "#### (b) Fit a logistic regression model that predicts `Direction` using `Lag1` and `Lag2` *using all but the first observation.*"
   ]
  },
  {
   "cell_type": "code",
   "execution_count": 12,
   "metadata": {},
   "outputs": [
    {
     "name": "stdout",
     "output_type": "stream",
     "text": [
      "                           Logit Regression Results                           \n",
      "==============================================================================\n",
      "Dep. Variable:              Direction   No. Observations:                 1088\n",
      "Model:                          Logit   Df Residuals:                     1085\n",
      "Method:                           MLE   Df Model:                            2\n",
      "Date:                Thu, 03 Oct 2019   Pseudo R-squ.:                0.005387\n",
      "Time:                        12:31:43   Log-Likelihood:                -743.26\n",
      "converged:                       True   LL-Null:                       -747.29\n",
      "Covariance Type:            nonrobust   LLR p-value:                   0.01785\n",
      "==============================================================================\n",
      "                 coef    std err          z      P>|z|      [0.025      0.975]\n",
      "------------------------------------------------------------------------------\n",
      "const          0.2232      0.061      3.630      0.000       0.103       0.344\n",
      "x1            -0.0384      0.026     -1.466      0.143      -0.090       0.013\n",
      "x2             0.0608      0.027      2.291      0.022       0.009       0.113\n",
      "==============================================================================\n"
     ]
    }
   ],
   "source": [
    "idx = [i for i in range(len(y)) if i!=0]\n",
    "model = sm.Logit(y[idx],X[idx,]).fit(disp=0)\n",
    "print(model.summary())"
   ]
  },
  {
   "cell_type": "markdown",
   "metadata": {},
   "source": [
    "#### (c) Use the model from (b) to predict the direction of the first observation. You can do this by predicting that the first observation will go up if $P(\\mathtt{Direction}=\\text{\"Up\"} | \\mathtt{Lag1} , \\mathtt{Lag2})> 0.5$. Was this observation correctly classified?"
   ]
  },
  {
   "cell_type": "code",
   "execution_count": 13,
   "metadata": {},
   "outputs": [
    {
     "name": "stdout",
     "output_type": "stream",
     "text": [
      "[0.28753405]\n",
      "[False]\n",
      "False\n"
     ]
    }
   ],
   "source": [
    "print(model.predict(X[0,], linear=1))\n",
    "print(model.predict(X[0,], linear=1)>.5)\n",
    "print(y[0])"
   ]
  },
  {
   "cell_type": "markdown",
   "metadata": {},
   "source": [
    "#### (d) Write a for loop from $i = 1$ to $i = n$, where $n$ is the number of observations in the data set, that performs each of the following steps:\n",
    "\n",
    "  i. Fit a logistic regression model using all but the ith obser vation to predict `Direction` using `Lag1` and `Lag2`.  \n",
    "\n",
    "  ii. Compute the posterior probability of the market moving up for the $i$th observation.  \n",
    "\n",
    "  iii. Use the posterior probability for the $i$th observation in order to predict whether or not the market moves up.  \n",
    "\n",
    "  iv. Determine whether or not an error was made in predicting the direction for the $i$th observation. If an error was made, then indicate this as a 1, and otherwise indicate it as a 0."
   ]
  },
  {
   "cell_type": "code",
   "execution_count": 14,
   "metadata": {},
   "outputs": [],
   "source": [
    "error = []\n",
    "for j in range(len(y)):\n",
    "    idx = [i for i in range(len(y)) if i!=j]\n",
    "    model = sm.Logit(y[idx],X[idx,]).fit(disp=0)\n",
    "    error.append((model.predict(X[j,], linear=1)>.5)!=y[j])"
   ]
  },
  {
   "cell_type": "markdown",
   "metadata": {},
   "source": [
    "#### (e) Take the average of the $n$ numbers obtained in (d)iv in order to obtain the LOOCV estimate for the test error. Comment on the results."
   ]
  },
  {
   "cell_type": "code",
   "execution_count": 15,
   "metadata": {},
   "outputs": [
    {
     "name": "stdout",
     "output_type": "stream",
     "text": [
      "Error rate: 0.5454545454545454\n"
     ]
    }
   ],
   "source": [
    "print('Error rate:',np.mean(error))"
   ]
  },
  {
   "cell_type": "markdown",
   "metadata": {},
   "source": [
    "### 8. We will now perform cross-validation on a simulated data set.\n",
    "\n",
    "#### (a) Generate a simulated data set as follows:\n",
    "```\n",
    "> set.seed(1)\n",
    "> x = rnorm(100)\n",
    "> y = x - 2*x^2 + rnorm(100)\n",
    "```\n",
    "#### In this data set, what is $n$ and what is $p$? Write out the model used to generate the data in equation form."
   ]
  },
  {
   "cell_type": "code",
   "execution_count": 16,
   "metadata": {},
   "outputs": [],
   "source": [
    "random.seed(1)\n",
    "x = [random.normalvariate(0,1) for i in range(100)]\n",
    "y = [i - 2*i**2 + random.normalvariate(0,1) for i in x]\n",
    "# yes, I could have used np.random here instead."
   ]
  },
  {
   "cell_type": "markdown",
   "metadata": {},
   "source": [
    "$n = 100$,  $p = 2$, $X \\sim N(0,1)$\n",
    "$$\n",
    "Y(X=x) = x-2x^2 + \\varepsilon\n",
    "$$\n"
   ]
  },
  {
   "cell_type": "markdown",
   "metadata": {},
   "source": [
    "### (b) Create a scatterplot of $X$ against $Y$. Comment on what you find."
   ]
  },
  {
   "cell_type": "code",
   "execution_count": 17,
   "metadata": {},
   "outputs": [
    {
     "data": {
      "text/plain": [
       "<Figure size 600x600 with 1 Axes>"
      ]
     },
     "metadata": {},
     "output_type": "display_data"
    }
   ],
   "source": [
    "import matplotlib.pyplot as plt\n",
    "plt.figure(figsize=(6,6))\n",
    "plt.scatter(x,y)\n",
    "plt.xlabel('x')\n",
    "plt.ylabel('y')\n",
    "plt.show()"
   ]
  },
  {
   "cell_type": "markdown",
   "metadata": {},
   "source": [
    "#### (c) Set a random seed, and then compute the LOOCV errors that result from fitting the following four models using least squares:\n",
    "\n",
    "  i. $Y = \\beta_0 + \\beta_1 X + \\varepsilon$\n",
    "\n",
    "  ii. $Y = \\beta_0 + \\beta_1 X + \\beta_2X^2 + \\varepsilon$  \n",
    "\n",
    "  iii. $Y = \\beta_0 + \\beta_1 X + \\beta_2X^2 + \\beta_3X^3 + \\varepsilon$  \n",
    "  \n",
    "  iv. $Y = \\beta_0 + \\beta_1 X + \\beta_2X^2 + \\beta_3X^3 + \\beta_4X^4 + \\varepsilon$.  \n",
    "\n",
    "#### Note you may find it helpful to use the `data.frame()` function to create a single data set containing both `X` and `Y`."
   ]
  },
  {
   "cell_type": "code",
   "execution_count": 18,
   "metadata": {},
   "outputs": [
    {
     "name": "stdout",
     "output_type": "stream",
     "text": [
      "[8.143931587952995, 1.0645892557074124, 1.0752292426753154, 1.0473706757609613]\n"
     ]
    }
   ],
   "source": [
    "x = np.asarray(x)\n",
    "y = np.asarray(y)\n",
    "X = [0,0,0,0]\n",
    "X[0] = np.c_[np.ones(len(x)),x]\n",
    "for i in range(1,4):\n",
    "    X[i] = np.c_[X[i-1],x**(i+1)]\n",
    "\n",
    "def loopf(i):\n",
    "    idx = [j for j in np.arange(len(y)) if j!=i]\n",
    "    model = sm.OLS(y[idx],X[n][idx,]).fit()\n",
    "    pred = model.predict(X[n][i,])\n",
    "    SE = (y[i]-pred)**2\n",
    "    return(SE)\n",
    "CV = [0,0,0,0]\n",
    "for n in range(4):\n",
    "    CV[n] = np.mean([loopf(i) for i in range(len(y))])\n",
    "print(CV)"
   ]
  },
  {
   "cell_type": "code",
   "execution_count": 19,
   "metadata": {},
   "outputs": [
    {
     "name": "stdout",
     "output_type": "stream",
     "text": [
      "[8.143931587952993, 1.0645892557074126, 1.0752292426753154, 1.0473706757609609]\n"
     ]
    }
   ],
   "source": [
    "def myCV(n):\n",
    "    model = sm.OLS(y,X[n]).fit()\n",
    "    hatd = model.get_influence().hat_matrix_diag\n",
    "    CV = np.mean(((y-model.fittedvalues)/(1-hatd))**2)\n",
    "    return(CV)\n",
    "\n",
    "CV = [myCV(n) for n in range(4)]\n",
    "print(CV)\n",
    "    "
   ]
  },
  {
   "cell_type": "markdown",
   "metadata": {},
   "source": [
    "#### (d) Repeat (c) using another random seed, and report your results. Are your results the same as what you got in (c)? Why?"
   ]
  },
  {
   "cell_type": "code",
   "execution_count": 20,
   "metadata": {},
   "outputs": [
    {
     "name": "stdout",
     "output_type": "stream",
     "text": [
      "Seed 1 sample and CV:     [8.143931587952993, 1.0645892557074126, 1.0752292426753154, 1.0473706757609609]\n",
      "\n",
      "Seed 1 sample, Seed 2 CV: [8.143931587952993, 1.0645892557074126, 1.0752292426753154, 1.0473706757609609]\n",
      "\n",
      "Seed 2 sample and CV:     [6.515454316933724, 0.9232650861777185, 0.9405719639944844, 0.9574413170015691]\n"
     ]
    }
   ],
   "source": [
    "# short vesion using Hat matrix diagonal\n",
    "print('Seed 1 sample and CV:    ', CV)\n",
    "random.seed(2)\n",
    "CV = [myCV(n) for n in range(4)]\n",
    "print('\\nSeed 1 sample, Seed 2 CV:', CV)\n",
    "\n",
    "random.seed(2)\n",
    "x = np.array([random.normalvariate(0,1) for i in range(100)])\n",
    "y = np.array([i - 2*i**2 + random.normalvariate(0,1) for i in x])\n",
    "X = [0,0,0,0]\n",
    "X[0] = np.c_[np.ones(len(x)),x]\n",
    "for i in range(1,4):\n",
    "    X[i] = np.c_[X[i-1],x**(i+1)]\n",
    "CV = [myCV(n) for n in range(4)]\n",
    "print('\\nSeed 2 sample and CV:    ', CV)\n",
    "\n",
    "random.seed(1)\n",
    "x = np.array([random.normalvariate(0,1) for i in range(100)])\n",
    "y = np.array([i - 2*i**2 + random.normalvariate(0,1) for i in x])\n",
    "X = [0,0,0,0]\n",
    "X[0] = np.c_[np.ones(len(x)),x]\n",
    "for i in range(1,4):\n",
    "    X[i] = np.c_[X[i-1],x**(i+1)]\n",
    "CV = [myCV(n) for n in range(4)]"
   ]
  },
  {
   "cell_type": "markdown",
   "metadata": {},
   "source": [
    "#### (e) Which of the models in (c) had the smallest LOOCV error? Is this what you expected? Explain your answer."
   ]
  },
  {
   "cell_type": "code",
   "execution_count": 21,
   "metadata": {},
   "outputs": [
    {
     "name": "stdout",
     "output_type": "stream",
     "text": [
      "[4]\n",
      "Expected is 2, which is the true data generation process.\n"
     ]
    }
   ],
   "source": [
    "print([i+1 for i in range(4) if CV[i]==np.min(CV)])\n",
    "\n",
    "print('Expected is 2, which is the true data generation process.')\n",
    "# Seed in Python did not help as much as in R :p"
   ]
  },
  {
   "cell_type": "markdown",
   "metadata": {},
   "source": [
    "#### (f) Comment on the statistical significance of the coefficient estimates that results from fitting each of the models in (c) using least squares. Do these results agree with the conclusions drawn based on the cross-validation results?"
   ]
  },
  {
   "cell_type": "markdown",
   "metadata": {},
   "source": [
    "*R results differ because it has a different random generating process. For this sample, CV and statistical significance of coefficients do not match, but the statistical significance selects the correct specification with estimated confidence intervals for coefficients containing the true values of $\\beta_1=1$ and $\\beta_2=-2$."
   ]
  },
  {
   "cell_type": "code",
   "execution_count": 22,
   "metadata": {},
   "outputs": [
    {
     "name": "stdout",
     "output_type": "stream",
     "text": [
      "                            OLS Regression Results                            \n",
      "==============================================================================\n",
      "Dep. Variable:                      y   R-squared:                       0.364\n",
      "Model:                            OLS   Adj. R-squared:                  0.358\n",
      "Method:                 Least Squares   F-statistic:                     56.16\n",
      "Date:                Thu, 03 Oct 2019   Prob (F-statistic):           3.00e-11\n",
      "Time:                        12:31:49   Log-Likelihood:                -243.33\n",
      "No. Observations:                 100   AIC:                             490.7\n",
      "Df Residuals:                      98   BIC:                             495.9\n",
      "Df Model:                           1                                         \n",
      "Covariance Type:            nonrobust                                         \n",
      "==============================================================================\n",
      "                 coef    std err          t      P>|t|      [0.025      0.975]\n",
      "------------------------------------------------------------------------------\n",
      "const         -2.2105      0.280     -7.883      0.000      -2.767      -1.654\n",
      "x1             1.9275      0.257      7.494      0.000       1.417       2.438\n",
      "==============================================================================\n",
      "Omnibus:                       16.025   Durbin-Watson:                   1.867\n",
      "Prob(Omnibus):                  0.000   Jarque-Bera (JB):               18.143\n",
      "Skew:                          -0.992   Prob(JB):                     0.000115\n",
      "Kurtosis:                       3.647   Cond. No.                         1.15\n",
      "==============================================================================\n",
      "\n",
      "Warnings:\n",
      "[1] Standard Errors assume that the covariance matrix of the errors is correctly specified.\n",
      "                            OLS Regression Results                            \n",
      "==============================================================================\n",
      "Dep. Variable:                      y   R-squared:                       0.917\n",
      "Model:                            OLS   Adj. R-squared:                  0.915\n",
      "Method:                 Least Squares   F-statistic:                     533.7\n",
      "Date:                Thu, 03 Oct 2019   Prob (F-statistic):           4.49e-53\n",
      "Time:                        12:31:49   Log-Likelihood:                -141.72\n",
      "No. Observations:                 100   AIC:                             289.4\n",
      "Df Residuals:                      97   BIC:                             297.3\n",
      "Df Model:                           2                                         \n",
      "Covariance Type:            nonrobust                                         \n",
      "==============================================================================\n",
      "                 coef    std err          t      P>|t|      [0.025      0.975]\n",
      "------------------------------------------------------------------------------\n",
      "const          0.0262      0.135      0.194      0.846      -0.241       0.294\n",
      "x1             1.0306      0.100     10.301      0.000       0.832       1.229\n",
      "x2            -1.9760      0.078    -25.362      0.000      -2.131      -1.821\n",
      "==============================================================================\n",
      "Omnibus:                        1.583   Durbin-Watson:                   2.044\n",
      "Prob(Omnibus):                  0.453   Jarque-Bera (JB):                1.288\n",
      "Skew:                          -0.074   Prob(JB):                        0.525\n",
      "Kurtosis:                       2.464   Cond. No.                         2.93\n",
      "==============================================================================\n",
      "\n",
      "Warnings:\n",
      "[1] Standard Errors assume that the covariance matrix of the errors is correctly specified.\n",
      "                            OLS Regression Results                            \n",
      "==============================================================================\n",
      "Dep. Variable:                      y   R-squared:                       0.918\n",
      "Model:                            OLS   Adj. R-squared:                  0.916\n",
      "Method:                 Least Squares   F-statistic:                     359.6\n",
      "Date:                Thu, 03 Oct 2019   Prob (F-statistic):           4.69e-52\n",
      "Time:                        12:31:49   Log-Likelihood:                -140.76\n",
      "No. Observations:                 100   AIC:                             289.5\n",
      "Df Residuals:                      96   BIC:                             299.9\n",
      "Df Model:                           3                                         \n",
      "Covariance Type:            nonrobust                                         \n",
      "==============================================================================\n",
      "                 coef    std err          t      P>|t|      [0.025      0.975]\n",
      "------------------------------------------------------------------------------\n",
      "const         -0.0269      0.140     -0.193      0.848      -0.304       0.251\n",
      "x1             0.8300      0.178      4.669      0.000       0.477       1.183\n",
      "x2            -1.9043      0.094    -20.316      0.000      -2.090      -1.718\n",
      "x3             0.0838      0.062      1.362      0.176      -0.038       0.206\n",
      "==============================================================================\n",
      "Omnibus:                        2.903   Durbin-Watson:                   2.024\n",
      "Prob(Omnibus):                  0.234   Jarque-Bera (JB):                1.918\n",
      "Skew:                          -0.115   Prob(JB):                        0.383\n",
      "Kurtosis:                       2.362   Cond. No.                         7.60\n",
      "==============================================================================\n",
      "\n",
      "Warnings:\n",
      "[1] Standard Errors assume that the covariance matrix of the errors is correctly specified.\n",
      "                            OLS Regression Results                            \n",
      "==============================================================================\n",
      "Dep. Variable:                      y   R-squared:                       0.920\n",
      "Model:                            OLS   Adj. R-squared:                  0.917\n",
      "Method:                 Least Squares   F-statistic:                     274.7\n",
      "Date:                Thu, 03 Oct 2019   Prob (F-statistic):           2.73e-51\n",
      "Time:                        12:31:49   Log-Likelihood:                -139.43\n",
      "No. Observations:                 100   AIC:                             288.9\n",
      "Df Residuals:                      95   BIC:                             301.9\n",
      "Df Model:                           4                                         \n",
      "Covariance Type:            nonrobust                                         \n",
      "==============================================================================\n",
      "                 coef    std err          t      P>|t|      [0.025      0.975]\n",
      "------------------------------------------------------------------------------\n",
      "const          0.1001      0.160      0.627      0.532      -0.217       0.417\n",
      "x1             0.6986      0.194      3.592      0.001       0.313       1.085\n",
      "x2            -2.1924      0.202    -10.833      0.000      -2.594      -1.791\n",
      "x3             0.1604      0.078      2.070      0.041       0.007       0.314\n",
      "x4             0.0750      0.047      1.603      0.112      -0.018       0.168\n",
      "==============================================================================\n",
      "Omnibus:                        3.060   Durbin-Watson:                   2.017\n",
      "Prob(Omnibus):                  0.217   Jarque-Bera (JB):                1.978\n",
      "Skew:                          -0.116   Prob(JB):                        0.372\n",
      "Kurtosis:                       2.351   Cond. No.                         22.2\n",
      "==============================================================================\n",
      "\n",
      "Warnings:\n",
      "[1] Standard Errors assume that the covariance matrix of the errors is correctly specified.\n"
     ]
    }
   ],
   "source": [
    "for n in range(4):\n",
    "    print(sm.OLS(y,X[n]).fit().summary())"
   ]
  },
  {
   "cell_type": "markdown",
   "metadata": {},
   "source": [
    "### 9. We will now consider the Boston housing data set, from the `MASS` library.\n",
    "\n",
    "#### (a) Based on this data set, provide an estimate for the population mean of `medv` . Call this estimate $\\hat\\mu$."
   ]
  },
  {
   "cell_type": "code",
   "execution_count": 23,
   "metadata": {},
   "outputs": [
    {
     "name": "stdout",
     "output_type": "stream",
     "text": [
      "22.532806324110677\n"
     ]
    }
   ],
   "source": [
    "# In Python, the Boston dataset is part of sklearn.datasets\n",
    "from sklearn.datasets import load_boston\n",
    "BostonData = load_boston()\n",
    "#Boston = pd.DataFrame(BostonData.data, columns = BostonData.feature_names)\n",
    "#Boston['MEDV'] = BostonData.target\n",
    "medv = BostonData.target\n",
    "print(medv.mean())"
   ]
  },
  {
   "cell_type": "markdown",
   "metadata": {},
   "source": [
    "#### (b) Provide an estimate of the standard error of $\\hat\\mu$. Interpret this result. Hint: We can compute the standard error of the sample mean by dividing the sample standard deviation by the square root of the number of observations."
   ]
  },
  {
   "cell_type": "code",
   "execution_count": 24,
   "metadata": {},
   "outputs": [
    {
     "name": "stdout",
     "output_type": "stream",
     "text": [
      "0.408861147497535\n"
     ]
    }
   ],
   "source": [
    "print(medv.std()/np.sqrt(len(medv)-1)) # Python uses a different denominator for std than R"
   ]
  },
  {
   "cell_type": "markdown",
   "metadata": {},
   "source": [
    "#### (c) Now estimate the standard error of $\\hat\\mu$ using the bootstrap. How does this compare to your answer from (b)?"
   ]
  },
  {
   "cell_type": "code",
   "execution_count": 25,
   "metadata": {},
   "outputs": [
    {
     "name": "stdout",
     "output_type": "stream",
     "text": [
      "{'original': 22.532806324110677, 'bias': 0.0018079051383423916, 'Standard_Deviation': 0.4042814738955241}\n"
     ]
    }
   ],
   "source": [
    "def boot(x,bootf,R):\n",
    "    mat = np.stack([bootf(random.choices(x, k = len(x))) for i in range(R)])\n",
    "    original = bootf(x)\n",
    "    bias = original - mat.mean(axis=0)\n",
    "    std = mat.std(axis=0)\n",
    "    summ = {'original': original, 'bias': bias, 'Standard_Deviation': std}\n",
    "    print(summ)\n",
    "    return summ\n",
    "\n",
    "bs = boot(medv,np.mean,1000)"
   ]
  },
  {
   "cell_type": "markdown",
   "metadata": {},
   "source": [
    "#### (d) Based on your bootstrap estimate from (c), provide a 95 % confidence interval for the mean of `medv`. Compare it to the results obtained using `t.test(Boston$medv)`. Hint: You can approximate a 95% confidence interval using the formula $\\left[\\hat\\mu − 2SE(\\hat\\mu), \\hat\\mu + 2SE(\\hat\\mu)\\right]$."
   ]
  },
  {
   "cell_type": "code",
   "execution_count": 26,
   "metadata": {},
   "outputs": [
    {
     "data": {
      "text/plain": [
       "(21.956369874068955, 23.1092427741524)"
      ]
     },
     "execution_count": 26,
     "metadata": {},
     "output_type": "execute_result"
    }
   ],
   "source": [
    "from scipy import stats\n",
    "stats.t.interval(0.05, len(medv), np.mean(medv), np.std(medv))\n"
   ]
  },
  {
   "cell_type": "code",
   "execution_count": 27,
   "metadata": {},
   "outputs": [
    {
     "data": {
      "text/plain": [
       "array([22.12852485, 22.9370878 ])"
      ]
     },
     "execution_count": 27,
     "metadata": {},
     "output_type": "execute_result"
    }
   ],
   "source": [
    "bs['original']+np.array([-1,1])*bs['Standard_Deviation']"
   ]
  },
  {
   "cell_type": "markdown",
   "metadata": {},
   "source": [
    "#### (e) Based on this data set, provide an estimate, $\\hat\\mu_{med}$, for the median value of `medv` in the population."
   ]
  },
  {
   "cell_type": "code",
   "execution_count": 28,
   "metadata": {},
   "outputs": [
    {
     "data": {
      "text/plain": [
       "21.2"
      ]
     },
     "execution_count": 28,
     "metadata": {},
     "output_type": "execute_result"
    }
   ],
   "source": [
    "np.median(medv)"
   ]
  },
  {
   "cell_type": "markdown",
   "metadata": {},
   "source": [
    "#### (f) We now would like to estimate the standard error of $\\hat\\mu_{med}$. Unfortunately, there is no simple formula for computing the standard error of the median. Instead, estimate the standard error of the median using the bootstrap. Comment on your findings.  "
   ]
  },
  {
   "cell_type": "code",
   "execution_count": 29,
   "metadata": {},
   "outputs": [
    {
     "name": "stdout",
     "output_type": "stream",
     "text": [
      "{'original': 21.2, 'bias': 0.008300000000001972, 'Standard_Deviation': 0.3851637443997031}\n"
     ]
    }
   ],
   "source": [
    "bs = boot(medv,np.median,1000)"
   ]
  },
  {
   "cell_type": "markdown",
   "metadata": {},
   "source": [
    "#### (g) Based on this data set, provide an estimate for the tenth percentile of `medv` in Boston suburbs. Call this quantity $\\hat\\mu_{0.1}$ . (You can use the `quantile()` function.)"
   ]
  },
  {
   "cell_type": "code",
   "execution_count": 30,
   "metadata": {},
   "outputs": [
    {
     "data": {
      "text/plain": [
       "12.75"
      ]
     },
     "execution_count": 30,
     "metadata": {},
     "output_type": "execute_result"
    }
   ],
   "source": [
    "np.quantile(medv, 0.10)"
   ]
  },
  {
   "cell_type": "markdown",
   "metadata": {},
   "source": [
    "#### (h) Use the bootstrap to estimate the standard error of $\\hat\\mu_{0.1}$. Comment on your findings."
   ]
  },
  {
   "cell_type": "code",
   "execution_count": 31,
   "metadata": {},
   "outputs": [
    {
     "name": "stdout",
     "output_type": "stream",
     "text": [
      "{'original': 12.75, 'bias': -0.02254999999999896, 'Standard_Deviation': 0.4806027439580427}\n"
     ]
    }
   ],
   "source": [
    "bs = boot(medv, lambda x: np.quantile(x,0.1),1000)"
   ]
  }
 ],
 "metadata": {
  "kernelspec": {
   "display_name": "Python 3",
   "language": "python",
   "name": "python3"
  },
  "language_info": {
   "codemirror_mode": {
    "name": "ipython",
    "version": 3
   },
   "file_extension": ".py",
   "mimetype": "text/x-python",
   "name": "python",
   "nbconvert_exporter": "python",
   "pygments_lexer": "ipython3",
   "version": "3.7.4"
  }
 },
 "nbformat": 4,
 "nbformat_minor": 2
}
